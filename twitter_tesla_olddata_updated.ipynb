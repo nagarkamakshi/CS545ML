{
 "cells": [
  {
   "cell_type": "code",
   "execution_count": 542,
   "metadata": {},
   "outputs": [],
   "source": [
    "\"\"\"Initial Imports\"\"\"\n",
    "import pandas as pd\n",
    "import numpy as np\n",
    "import re\n",
    "import tweepy\n",
    "import datetime\n",
    "from pandas_datareader import data as web\n",
    "from textblob import TextBlob\n",
    "from sklearn.svm import SVR\n",
    "from treeinterpreter import treeinterpreter as ti\n",
    "from sklearn.ensemble import RandomForestRegressor\n",
    "import matplotlib.pyplot as plt\n",
    "from sklearn.model_selection import train_test_split"
   ]
  },
  {
   "cell_type": "code",
   "execution_count": 543,
   "metadata": {},
   "outputs": [
    {
     "name": "stdout",
     "output_type": "stream",
     "text": [
      "Created CSV\n"
     ]
    }
   ],
   "source": [
    "consumer_key = \"W8olFrRLK7Lt7BUh6YAbdSG4h\"\n",
    "consumer_secret = \"izRdiwC73rntSdMdAQm2gL8zFNAHVLa99A8dI99w0Lz16jvNrx\"\n",
    "\n",
    "access_token = \"620364433-Kj5up6bB6KLfl5wfmxxcAnWthse5o38P2MKABM00\"\n",
    "access_token_secret = \"Faxxv0hb54KF7MmakQ8WZmvaCC5YIprcWhiOuEyQY2iLt\"\n",
    "\n",
    "auth = tweepy.OAuthHandler(consumer_key, consumer_secret)\n",
    "auth.set_access_token(access_token, access_token_secret)\n",
    "api = tweepy.API(auth,wait_on_rate_limit=True)\n",
    "\n",
    "fetch_tweets=tweepy.Cursor(api.search, q=\"#TSLA\",count=100, lang =\"en\",since=\"2019-9-25\", tweet_mode=\"extended\").items()\n",
    "data=pd.DataFrame(data=[[tweet_info.created_at.date(),tweet_info.full_text]for tweet_info in fetch_tweets],columns=['Date','Tweets'])\n",
    "\n",
    "data.to_csv(\"TeslaTweets.csv\")\n",
    "cdata=pd.DataFrame(columns=['Date','Tweets'])\n",
    "print(\"Created CSV\")"
   ]
  },
  {
   "cell_type": "code",
   "execution_count": 544,
   "metadata": {},
   "outputs": [],
   "source": [
    "##Read the data\n",
    "data = pd.read_csv('tweets_data_old_elonmusk.csv')"
   ]
  },
  {
   "cell_type": "code",
   "execution_count": 545,
   "metadata": {},
   "outputs": [
    {
     "name": "stdout",
     "output_type": "stream",
     "text": [
      "3218\n"
     ]
    }
   ],
   "source": [
    "cdata=pd.DataFrame(columns=['Date','Tweets'])\n",
    "print(len(data))"
   ]
  },
  {
   "cell_type": "code",
   "execution_count": 546,
   "metadata": {},
   "outputs": [],
   "source": [
    "##clean up the tweets\n",
    "index=0\n",
    "for index,row in data.iterrows():\n",
    "    stre=row[\"Tweets\"]\n",
    "    my_new_string = re.sub('[^ a-zA-Z0-9]', '', stre)\n",
    "    cdata.sort_index()\n",
    "    cdata.at[index,'Date'] =row[\"Date\"]\n",
    "    cdata.at[index,'Tweets']= my_new_string\n",
    "    #index=index+1\n",
    "ccdata=pd.DataFrame(columns=['Date','Tweets'])"
   ]
  },
  {
   "cell_type": "code",
   "execution_count": 547,
   "metadata": {},
   "outputs": [],
   "source": [
    "#clubbed tweets date wise\n",
    "indx=0\n",
    "get_tweet=\"\"\n",
    "for i in range(0,len(cdata)-1):\n",
    "    get_date=cdata.Date.iloc[i]\n",
    "    next_date=cdata.Date.iloc[i+1]\n",
    "    if(str(get_date)==str(next_date)):\n",
    "        get_tweet=get_tweet+cdata.Tweets.iloc[i]+\" \"\n",
    "    if(str(get_date)!=str(next_date)):\n",
    "        ccdata.at[indx,'Date']=get_date\n",
    "        ccdata.at[indx,'Tweets']=get_tweet\n",
    "        indx+=1\n",
    "        get_tweet=\" \""
   ]
  },
  {
   "cell_type": "code",
   "execution_count": 548,
   "metadata": {},
   "outputs": [
    {
     "data": {
      "text/html": [
       "<div>\n",
       "<style scoped>\n",
       "    .dataframe tbody tr th:only-of-type {\n",
       "        vertical-align: middle;\n",
       "    }\n",
       "\n",
       "    .dataframe tbody tr th {\n",
       "        vertical-align: top;\n",
       "    }\n",
       "\n",
       "    .dataframe thead th {\n",
       "        text-align: right;\n",
       "    }\n",
       "</style>\n",
       "<table border=\"1\" class=\"dataframe\">\n",
       "  <thead>\n",
       "    <tr style=\"text-align: right;\">\n",
       "      <th></th>\n",
       "      <th>Unnamed: 0</th>\n",
       "      <th>Date</th>\n",
       "      <th>Tweets</th>\n",
       "    </tr>\n",
       "  </thead>\n",
       "  <tbody>\n",
       "    <tr>\n",
       "      <th>0</th>\n",
       "      <td>0</td>\n",
       "      <td>9/29/2017</td>\n",
       "      <td>MeltingIce Assuming max acceleration of 2 to 3...</td>\n",
       "    </tr>\n",
       "    <tr>\n",
       "      <th>1</th>\n",
       "      <td>1</td>\n",
       "      <td>9/28/2017</td>\n",
       "      <td>kevinroose Just another day in the office Fas...</td>\n",
       "    </tr>\n",
       "    <tr>\n",
       "      <th>2</th>\n",
       "      <td>2</td>\n",
       "      <td>9/27/2017</td>\n",
       "      <td>Prev ideas for paying 10B dev cost incl Kicks...</td>\n",
       "    </tr>\n",
       "    <tr>\n",
       "      <th>3</th>\n",
       "      <td>3</td>\n",
       "      <td>9/26/2017</td>\n",
       "      <td>ElDeano Daimler Jalopnik Yes I did  Good NYT ...</td>\n",
       "    </tr>\n",
       "    <tr>\n",
       "      <th>4</th>\n",
       "      <td>4</td>\n",
       "      <td>9/25/2017</td>\n",
       "      <td>Daimler Good Major improvements  some unexpec...</td>\n",
       "    </tr>\n",
       "  </tbody>\n",
       "</table>\n",
       "</div>"
      ],
      "text/plain": [
       "   Unnamed: 0       Date                                             Tweets\n",
       "0           0  9/29/2017  MeltingIce Assuming max acceleration of 2 to 3...\n",
       "1           1  9/28/2017   kevinroose Just another day in the office Fas...\n",
       "2           2  9/27/2017   Prev ideas for paying 10B dev cost incl Kicks...\n",
       "3           3  9/26/2017   ElDeano Daimler Jalopnik Yes I did  Good NYT ...\n",
       "4           4  9/25/2017   Daimler Good Major improvements  some unexpec..."
      ]
     },
     "execution_count": 548,
     "metadata": {},
     "output_type": "execute_result"
    }
   ],
   "source": [
    "ccdata = pd.read_csv('Tesla_tweets_old.csv')\n",
    "ccdata.head()"
   ]
  },
  {
   "cell_type": "code",
   "execution_count": 549,
   "metadata": {},
   "outputs": [
    {
     "name": "stdout",
     "output_type": "stream",
     "text": [
      "% of positive tweets=  87.97814207650273\n",
      "% of negative tweets=  12.021857923497267\n"
     ]
    },
    {
     "data": {
      "text/plain": [
       "[]"
      ]
     },
     "execution_count": 549,
     "metadata": {},
     "output_type": "execute_result"
    },
    {
     "data": {
      "image/png": "[encoded data removed]",
      "text/plain": [
       "<Figure size 432x288 with 1 Axes>"
      ]
     },
     "metadata": {},
     "output_type": "display_data"
    }
   ],
   "source": [
    "\"\"\"Doing Sentiment Analysis of tweets\"\"\"\n",
    "\n",
    "ccdata['polarity'] = 0.0000\n",
    "for index,row in ccdata.iterrows():\n",
    "    analysis = TextBlob(ccdata['Tweets'][index])\n",
    "    sentiment, confidence  = analysis.sentiment\n",
    "    ccdata.at[index,'polarity'] = sentiment\n",
    "    \n",
    "posi=0\n",
    "nega=0\n",
    "for i in range (0,len(ccdata)):\n",
    "    get_val=ccdata['polarity'][i]\n",
    "    if(float(get_val)<(0)):\n",
    "        nega=nega+1\n",
    "    else:\n",
    "        posi=posi+1\n",
    "        \n",
    "posper=(posi/(len(ccdata)))*100\n",
    "negper=(nega/(len(ccdata)))*100\n",
    "print(\"% of positive tweets= \",posper)\n",
    "print(\"% of negative tweets= \",negper)\n",
    "arr=np.asarray([posper,negper], dtype=int)\n",
    "plt.pie(arr,labels=['positive','negative'])\n",
    "plt.plot()"
   ]
  },
  {
   "cell_type": "code",
   "execution_count": 550,
   "metadata": {},
   "outputs": [],
   "source": [
    "\"\"\"Get Stock Price From Yahoo using Pandas.dataReader\"\"\"\n",
    "\n",
    "start = datetime.datetime(2012,10,26)\n",
    "## Let's get Tesla stock data; Tesla's ticker symbol is TSLA\n",
    "## First argument is the series we want, second is the source (\"yahoo\" for Yahoo! Finance), third is the start date, \n",
    "##fourth is the end date\n",
    "tesla = web.DataReader('TSLA', 'yahoo', start)\n",
    "#tesla.to_csv('TESLA_stock_price.csv')"
   ]
  },
  {
   "cell_type": "code",
   "execution_count": 551,
   "metadata": {},
   "outputs": [
    {
     "data": {
      "text/html": [
       "<div>\n",
       "<style scoped>\n",
       "    .dataframe tbody tr th:only-of-type {\n",
       "        vertical-align: middle;\n",
       "    }\n",
       "\n",
       "    .dataframe tbody tr th {\n",
       "        vertical-align: top;\n",
       "    }\n",
       "\n",
       "    .dataframe thead th {\n",
       "        text-align: right;\n",
       "    }\n",
       "</style>\n",
       "<table border=\"1\" class=\"dataframe\">\n",
       "  <thead>\n",
       "    <tr style=\"text-align: right;\">\n",
       "      <th></th>\n",
       "      <th>Date</th>\n",
       "      <th>High</th>\n",
       "      <th>Low</th>\n",
       "      <th>Open</th>\n",
       "      <th>Close</th>\n",
       "      <th>Volume</th>\n",
       "      <th>Adj Close</th>\n",
       "    </tr>\n",
       "  </thead>\n",
       "  <tbody>\n",
       "    <tr>\n",
       "      <th>0</th>\n",
       "      <td>10/26/2012</td>\n",
       "      <td>27.799999</td>\n",
       "      <td>27.020000</td>\n",
       "      <td>27.530001</td>\n",
       "      <td>27.379999</td>\n",
       "      <td>477400</td>\n",
       "      <td>27.379999</td>\n",
       "    </tr>\n",
       "    <tr>\n",
       "      <th>1</th>\n",
       "      <td>10/31/2012</td>\n",
       "      <td>28.350000</td>\n",
       "      <td>27.370001</td>\n",
       "      <td>27.700001</td>\n",
       "      <td>28.129999</td>\n",
       "      <td>775200</td>\n",
       "      <td>28.129999</td>\n",
       "    </tr>\n",
       "    <tr>\n",
       "      <th>2</th>\n",
       "      <td>11/1/2012</td>\n",
       "      <td>29.490000</td>\n",
       "      <td>28.200001</td>\n",
       "      <td>28.250000</td>\n",
       "      <td>29.250000</td>\n",
       "      <td>1024100</td>\n",
       "      <td>29.250000</td>\n",
       "    </tr>\n",
       "    <tr>\n",
       "      <th>3</th>\n",
       "      <td>11/2/2012</td>\n",
       "      <td>29.549999</td>\n",
       "      <td>28.549999</td>\n",
       "      <td>29.270000</td>\n",
       "      <td>28.920000</td>\n",
       "      <td>1030300</td>\n",
       "      <td>28.920000</td>\n",
       "    </tr>\n",
       "    <tr>\n",
       "      <th>4</th>\n",
       "      <td>11/5/2012</td>\n",
       "      <td>31.580000</td>\n",
       "      <td>29.330000</td>\n",
       "      <td>29.799999</td>\n",
       "      <td>31.500000</td>\n",
       "      <td>2048900</td>\n",
       "      <td>31.500000</td>\n",
       "    </tr>\n",
       "  </tbody>\n",
       "</table>\n",
       "</div>"
      ],
      "text/plain": [
       "         Date       High        Low       Open      Close   Volume  Adj Close\n",
       "0  10/26/2012  27.799999  27.020000  27.530001  27.379999   477400  27.379999\n",
       "1  10/31/2012  28.350000  27.370001  27.700001  28.129999   775200  28.129999\n",
       "2   11/1/2012  29.490000  28.200001  28.250000  29.250000  1024100  29.250000\n",
       "3   11/2/2012  29.549999  28.549999  29.270000  28.920000  1030300  28.920000\n",
       "4   11/5/2012  31.580000  29.330000  29.799999  31.500000  2048900  31.500000"
      ]
     },
     "execution_count": 551,
     "metadata": {},
     "output_type": "execute_result"
    }
   ],
   "source": [
    "read_stock_p=pd.read_csv('TESLA_stock_price.csv')\n",
    "read_stock_p.head()"
   ]
  },
  {
   "cell_type": "code",
   "execution_count": 552,
   "metadata": {},
   "outputs": [],
   "source": [
    "\"\"\"Add the stock price value matching tweets for the day\"\"\"\n",
    "\n",
    "ccdata['Prices']=\"\"\n",
    "indx=0\n",
    "for i in range (0,len(ccdata)):\n",
    "    for j in range (0,len(read_stock_p)):\n",
    "        get_tweet_date=ccdata.Date.iloc[i]\n",
    "        get_stock_date=read_stock_p.Date.iloc[j]             \n",
    "        if(str(get_stock_date)==str(get_tweet_date)):\n",
    "            #print(get_stock_date,\" \",get_tweet_date)\n",
    "            ccdata.at[i,'Prices']=int(read_stock_p.Close[j])\n",
    "            break"
   ]
  },
  {
   "cell_type": "code",
   "execution_count": 553,
   "metadata": {},
   "outputs": [
    {
     "data": {
      "text/plain": [
       "'Show that there are some empty fields for days when stock Market is closed'"
      ]
     },
     "execution_count": 553,
     "metadata": {},
     "output_type": "execute_result"
    }
   ],
   "source": [
    "\"\"\"Show that there are some empty fields for days when stock Market is closed\"\"\""
   ]
  },
  {
   "cell_type": "code",
   "execution_count": 554,
   "metadata": {},
   "outputs": [
    {
     "data": {
      "text/html": [
       "<div>\n",
       "<style scoped>\n",
       "    .dataframe tbody tr th:only-of-type {\n",
       "        vertical-align: middle;\n",
       "    }\n",
       "\n",
       "    .dataframe tbody tr th {\n",
       "        vertical-align: top;\n",
       "    }\n",
       "\n",
       "    .dataframe thead th {\n",
       "        text-align: right;\n",
       "    }\n",
       "</style>\n",
       "<table border=\"1\" class=\"dataframe\">\n",
       "  <thead>\n",
       "    <tr style=\"text-align: right;\">\n",
       "      <th></th>\n",
       "      <th>Unnamed: 0</th>\n",
       "      <th>Date</th>\n",
       "      <th>Tweets</th>\n",
       "      <th>polarity</th>\n",
       "      <th>Prices</th>\n",
       "    </tr>\n",
       "  </thead>\n",
       "  <tbody>\n",
       "    <tr>\n",
       "      <th>0</th>\n",
       "      <td>0</td>\n",
       "      <td>9/29/2017</td>\n",
       "      <td>MeltingIce Assuming max acceleration of 2 to 3...</td>\n",
       "      <td>0.156151</td>\n",
       "      <td>341</td>\n",
       "    </tr>\n",
       "    <tr>\n",
       "      <th>1</th>\n",
       "      <td>1</td>\n",
       "      <td>9/28/2017</td>\n",
       "      <td>kevinroose Just another day in the office Fas...</td>\n",
       "      <td>0.500000</td>\n",
       "      <td>339</td>\n",
       "    </tr>\n",
       "    <tr>\n",
       "      <th>2</th>\n",
       "      <td>2</td>\n",
       "      <td>9/27/2017</td>\n",
       "      <td>Prev ideas for paying 10B dev cost incl Kicks...</td>\n",
       "      <td>-0.133333</td>\n",
       "      <td>340</td>\n",
       "    </tr>\n",
       "    <tr>\n",
       "      <th>3</th>\n",
       "      <td>3</td>\n",
       "      <td>9/26/2017</td>\n",
       "      <td>ElDeano Daimler Jalopnik Yes I did  Good NYT ...</td>\n",
       "      <td>0.350000</td>\n",
       "      <td>345</td>\n",
       "    </tr>\n",
       "    <tr>\n",
       "      <th>4</th>\n",
       "      <td>4</td>\n",
       "      <td>9/25/2017</td>\n",
       "      <td>Daimler Good Major improvements  some unexpec...</td>\n",
       "      <td>0.287500</td>\n",
       "      <td>344</td>\n",
       "    </tr>\n",
       "    <tr>\n",
       "      <th>5</th>\n",
       "      <td>9</td>\n",
       "      <td>9/16/2017</td>\n",
       "      <td>Richwsadler Does my hivemind count as me Bobb...</td>\n",
       "      <td>-0.125000</td>\n",
       "      <td></td>\n",
       "    </tr>\n",
       "    <tr>\n",
       "      <th>6</th>\n",
       "      <td>11</td>\n",
       "      <td>9/14/2017</td>\n",
       "      <td>High res version at httpstcoYysKftHhoz jovani...</td>\n",
       "      <td>0.187143</td>\n",
       "      <td>377</td>\n",
       "    </tr>\n",
       "    <tr>\n",
       "      <th>7</th>\n",
       "      <td>13</td>\n",
       "      <td>9/12/2017</td>\n",
       "      <td>RT Gizmodo Hackers have already started to we...</td>\n",
       "      <td>-0.600000</td>\n",
       "      <td>362</td>\n",
       "    </tr>\n",
       "  </tbody>\n",
       "</table>\n",
       "</div>"
      ],
      "text/plain": [
       "   Unnamed: 0       Date                                             Tweets  \\\n",
       "0           0  9/29/2017  MeltingIce Assuming max acceleration of 2 to 3...   \n",
       "1           1  9/28/2017   kevinroose Just another day in the office Fas...   \n",
       "2           2  9/27/2017   Prev ideas for paying 10B dev cost incl Kicks...   \n",
       "3           3  9/26/2017   ElDeano Daimler Jalopnik Yes I did  Good NYT ...   \n",
       "4           4  9/25/2017   Daimler Good Major improvements  some unexpec...   \n",
       "5           9  9/16/2017   Richwsadler Does my hivemind count as me Bobb...   \n",
       "6          11  9/14/2017   High res version at httpstcoYysKftHhoz jovani...   \n",
       "7          13  9/12/2017   RT Gizmodo Hackers have already started to we...   \n",
       "\n",
       "   polarity Prices  \n",
       "0  0.156151    341  \n",
       "1  0.500000    339  \n",
       "2 -0.133333    340  \n",
       "3  0.350000    345  \n",
       "4  0.287500    344  \n",
       "5 -0.125000         \n",
       "6  0.187143    377  \n",
       "7 -0.600000    362  "
      ]
     },
     "execution_count": 554,
     "metadata": {},
     "output_type": "execute_result"
    }
   ],
   "source": [
    "ccdata.head(8)"
   ]
  },
  {
   "cell_type": "code",
   "execution_count": 555,
   "metadata": {},
   "outputs": [
    {
     "name": "stderr",
     "output_type": "stream",
     "text": [
      "/anaconda3/lib/python3.7/site-packages/pandas/core/indexing.py:190: SettingWithCopyWarning: \n",
      "A value is trying to be set on a copy of a slice from a DataFrame\n",
      "\n",
      "See the caveats in the documentation: http://pandas.pydata.org/pandas-docs/stable/indexing.html#indexing-view-versus-copy\n",
      "  self._setitem_with_indexer(indexer, value)\n"
     ]
    }
   ],
   "source": [
    "\"\"\"Filling empty price with previous day price\"\"\"\n",
    "for i in range(1,len(ccdata)):\n",
    "    if(ccdata.Prices.iloc[i]==\"\"):\n",
    "            ccdata.Prices.iloc[i]=int(ccdata.Prices.iloc[i-1])\n",
    "\n",
    "#ccdata['Prices'] = ccdata['Prices'].apply(np.int64)\n"
   ]
  },
  {
   "cell_type": "code",
   "execution_count": 556,
   "metadata": {},
   "outputs": [
    {
     "data": {
      "text/html": [
       "<div>\n",
       "<style scoped>\n",
       "    .dataframe tbody tr th:only-of-type {\n",
       "        vertical-align: middle;\n",
       "    }\n",
       "\n",
       "    .dataframe tbody tr th {\n",
       "        vertical-align: top;\n",
       "    }\n",
       "\n",
       "    .dataframe thead th {\n",
       "        text-align: right;\n",
       "    }\n",
       "</style>\n",
       "<table border=\"1\" class=\"dataframe\">\n",
       "  <thead>\n",
       "    <tr style=\"text-align: right;\">\n",
       "      <th></th>\n",
       "      <th>Unnamed: 0</th>\n",
       "      <th>Date</th>\n",
       "      <th>Tweets</th>\n",
       "      <th>polarity</th>\n",
       "      <th>Prices</th>\n",
       "    </tr>\n",
       "  </thead>\n",
       "  <tbody>\n",
       "    <tr>\n",
       "      <th>0</th>\n",
       "      <td>0</td>\n",
       "      <td>9/29/2017</td>\n",
       "      <td>MeltingIce Assuming max acceleration of 2 to 3...</td>\n",
       "      <td>0.156151</td>\n",
       "      <td>341</td>\n",
       "    </tr>\n",
       "    <tr>\n",
       "      <th>1</th>\n",
       "      <td>1</td>\n",
       "      <td>9/28/2017</td>\n",
       "      <td>kevinroose Just another day in the office Fas...</td>\n",
       "      <td>0.500000</td>\n",
       "      <td>339</td>\n",
       "    </tr>\n",
       "    <tr>\n",
       "      <th>2</th>\n",
       "      <td>2</td>\n",
       "      <td>9/27/2017</td>\n",
       "      <td>Prev ideas for paying 10B dev cost incl Kicks...</td>\n",
       "      <td>-0.133333</td>\n",
       "      <td>340</td>\n",
       "    </tr>\n",
       "    <tr>\n",
       "      <th>3</th>\n",
       "      <td>3</td>\n",
       "      <td>9/26/2017</td>\n",
       "      <td>ElDeano Daimler Jalopnik Yes I did  Good NYT ...</td>\n",
       "      <td>0.350000</td>\n",
       "      <td>345</td>\n",
       "    </tr>\n",
       "    <tr>\n",
       "      <th>4</th>\n",
       "      <td>4</td>\n",
       "      <td>9/25/2017</td>\n",
       "      <td>Daimler Good Major improvements  some unexpec...</td>\n",
       "      <td>0.287500</td>\n",
       "      <td>344</td>\n",
       "    </tr>\n",
       "    <tr>\n",
       "      <th>5</th>\n",
       "      <td>9</td>\n",
       "      <td>9/16/2017</td>\n",
       "      <td>Richwsadler Does my hivemind count as me Bobb...</td>\n",
       "      <td>-0.125000</td>\n",
       "      <td>344</td>\n",
       "    </tr>\n",
       "  </tbody>\n",
       "</table>\n",
       "</div>"
      ],
      "text/plain": [
       "   Unnamed: 0       Date                                             Tweets  \\\n",
       "0           0  9/29/2017  MeltingIce Assuming max acceleration of 2 to 3...   \n",
       "1           1  9/28/2017   kevinroose Just another day in the office Fas...   \n",
       "2           2  9/27/2017   Prev ideas for paying 10B dev cost incl Kicks...   \n",
       "3           3  9/26/2017   ElDeano Daimler Jalopnik Yes I did  Good NYT ...   \n",
       "4           4  9/25/2017   Daimler Good Major improvements  some unexpec...   \n",
       "5           9  9/16/2017   Richwsadler Does my hivemind count as me Bobb...   \n",
       "\n",
       "   polarity  Prices  \n",
       "0  0.156151     341  \n",
       "1  0.500000     339  \n",
       "2 -0.133333     340  \n",
       "3  0.350000     345  \n",
       "4  0.287500     344  \n",
       "5 -0.125000     344  "
      ]
     },
     "execution_count": 556,
     "metadata": {},
     "output_type": "execute_result"
    }
   ],
   "source": [
    "ccdata.head(6)"
   ]
  },
  {
   "cell_type": "code",
   "execution_count": 557,
   "metadata": {},
   "outputs": [
    {
     "data": {
      "text/plain": [
       "Unnamed: 0          int64\n",
       "Date               object\n",
       "Tweets             object\n",
       "polarity          float64\n",
       "Prices              int64\n",
       "percent change    float64\n",
       "dtype: object"
      ]
     },
     "execution_count": 557,
     "metadata": {},
     "output_type": "execute_result"
    }
   ],
   "source": [
    "\"\"\"Adding Percent change column in the dataset\"\"\"\n",
    "ccdata['percent change'] = 0.0000\n",
    "for i in range(0,len(ccdata)-1):\n",
    "    ccdata.at[i,'percent change']=float((ccdata.Prices.iloc[i+1]-ccdata.Prices.iloc[i])/ccdata.Prices.iloc[i])\n",
    "\n",
    "#ccdata['percent change'] = ccdata['percent change'].apply(np.float)\n",
    "ccdata.dtypes  "
   ]
  },
  {
   "cell_type": "code",
   "execution_count": 558,
   "metadata": {},
   "outputs": [
    {
     "data": {
      "text/plain": [
       "(549, 6)"
      ]
     },
     "execution_count": 558,
     "metadata": {},
     "output_type": "execute_result"
    }
   ],
   "source": [
    "ccdata.shape"
   ]
  },
  {
   "cell_type": "code",
   "execution_count": 559,
   "metadata": {},
   "outputs": [],
   "source": [
    "ccdata.to_csv(\"Tesla_tweets_with_stocks_old.csv\")"
   ]
  },
  {
   "cell_type": "code",
   "execution_count": 560,
   "metadata": {},
   "outputs": [
    {
     "data": {
      "text/html": [
       "<div>\n",
       "<style scoped>\n",
       "    .dataframe tbody tr th:only-of-type {\n",
       "        vertical-align: middle;\n",
       "    }\n",
       "\n",
       "    .dataframe tbody tr th {\n",
       "        vertical-align: top;\n",
       "    }\n",
       "\n",
       "    .dataframe thead th {\n",
       "        text-align: right;\n",
       "    }\n",
       "</style>\n",
       "<table border=\"1\" class=\"dataframe\">\n",
       "  <thead>\n",
       "    <tr style=\"text-align: right;\">\n",
       "      <th></th>\n",
       "      <th>Unnamed: 0</th>\n",
       "      <th>Date</th>\n",
       "      <th>Tweets</th>\n",
       "      <th>polarity</th>\n",
       "      <th>Prices</th>\n",
       "      <th>percent change</th>\n",
       "    </tr>\n",
       "  </thead>\n",
       "  <tbody>\n",
       "    <tr>\n",
       "      <th>0</th>\n",
       "      <td>0</td>\n",
       "      <td>9/29/2017</td>\n",
       "      <td>MeltingIce Assuming max acceleration of 2 to 3...</td>\n",
       "      <td>0.156151</td>\n",
       "      <td>341</td>\n",
       "      <td>-0.005865</td>\n",
       "    </tr>\n",
       "    <tr>\n",
       "      <th>1</th>\n",
       "      <td>1</td>\n",
       "      <td>9/28/2017</td>\n",
       "      <td>kevinroose Just another day in the office Fas...</td>\n",
       "      <td>0.500000</td>\n",
       "      <td>339</td>\n",
       "      <td>0.002950</td>\n",
       "    </tr>\n",
       "    <tr>\n",
       "      <th>2</th>\n",
       "      <td>2</td>\n",
       "      <td>9/27/2017</td>\n",
       "      <td>Prev ideas for paying 10B dev cost incl Kicks...</td>\n",
       "      <td>-0.133333</td>\n",
       "      <td>340</td>\n",
       "      <td>0.014706</td>\n",
       "    </tr>\n",
       "  </tbody>\n",
       "</table>\n",
       "</div>"
      ],
      "text/plain": [
       "   Unnamed: 0       Date                                             Tweets  \\\n",
       "0           0  9/29/2017  MeltingIce Assuming max acceleration of 2 to 3...   \n",
       "1           1  9/28/2017   kevinroose Just another day in the office Fas...   \n",
       "2           2  9/27/2017   Prev ideas for paying 10B dev cost incl Kicks...   \n",
       "\n",
       "   polarity  Prices  percent change  \n",
       "0  0.156151     341       -0.005865  \n",
       "1  0.500000     339        0.002950  \n",
       "2 -0.133333     340        0.014706  "
      ]
     },
     "execution_count": 560,
     "metadata": {},
     "output_type": "execute_result"
    }
   ],
   "source": [
    "ccdata.head(3)"
   ]
  },
  {
   "cell_type": "code",
   "execution_count": 561,
   "metadata": {},
   "outputs": [],
   "source": [
    "\"\"\"Parttion the data in train and test\n",
    "Train the model with past four years data \n",
    "and predict the price change for next years\"\"\"\n",
    "\n",
    "test1 = ccdata.iloc[0:199]\n",
    "train1 = ccdata.iloc[200:549]\n",
    "\n",
    "train = train1.to_numpy()\n",
    "test = test1.to_numpy()\n",
    "\n",
    "X_train= np.array([x[-3] for x in train])\n",
    "y_train = np.array([x[-1] for x in train])\n",
    "\n",
    "X_test= np.array([x[-3] for x in test])\n",
    "y_test = np.array([x[-1] for x in test])\n",
    "#y= np.array(ccdata['Prices'].values).astype(float)\n",
    "#(X_train,X_test,y_train,y_test) = train_test_split(X, y, test_size=0.2, random_state=0)"
   ]
  },
  {
   "cell_type": "code",
   "execution_count": 578,
   "metadata": {},
   "outputs": [
    {
     "name": "stdout",
     "output_type": "stream",
     "text": [
      "[[-0.03973116]\n",
      " [ 0.02373477]\n",
      " [ 0.00282697]\n",
      " [ 0.01020634]\n",
      " [ 0.00572553]\n",
      " [ 0.01591109]\n",
      " [ 0.00379785]\n",
      " [ 0.00025187]\n",
      " [ 0.04882475]\n",
      " [ 0.10214155]\n",
      " [-0.04086585]\n",
      " [-0.03571411]\n",
      " [-0.03958796]\n",
      " [ 0.03775443]\n",
      " [-0.0347907 ]\n",
      " [-0.08722122]\n",
      " [-0.00489835]\n",
      " [ 0.04023082]\n",
      " [-0.02317178]\n",
      " [-0.0212384 ]\n",
      " [ 0.01020634]\n",
      " [-0.00489835]\n",
      " [ 0.02816434]\n",
      " [-0.03145874]\n",
      " [ 0.00282697]\n",
      " [ 0.01020634]\n",
      " [-0.04937485]\n",
      " [-0.01899228]\n",
      " [-0.00128975]\n",
      " [ 0.02373477]\n",
      " [ 0.02373477]\n",
      " [-0.00199466]\n",
      " [ 0.02188358]\n",
      " [-0.03371347]\n",
      " [ 0.02373477]\n",
      " [ 0.00025187]\n",
      " [-0.06139525]\n",
      " [ 0.00958953]\n",
      " [-0.00128975]\n",
      " [-0.00199466]\n",
      " [ 0.00544993]\n",
      " [ 0.00502907]\n",
      " [ 0.01057437]\n",
      " [ 0.04068915]\n",
      " [ 0.02847392]\n",
      " [ 0.00379316]\n",
      " [ 0.00282697]\n",
      " [-0.028588  ]\n",
      " [-0.00128975]\n",
      " [ 0.01148082]\n",
      " [-0.04662472]\n",
      " [-0.03066212]\n",
      " [-0.03973116]\n",
      " [ 0.00741782]\n",
      " [-0.03973116]\n",
      " [ 0.01152263]\n",
      " [ 0.02260088]\n",
      " [-0.00069081]\n",
      " [ 0.03771663]\n",
      " [ 0.00502707]\n",
      " [-0.01895529]\n",
      " [ 0.02816434]\n",
      " [-0.01814097]\n",
      " [-0.03727492]\n",
      " [ 0.02373477]\n",
      " [-0.00128975]\n",
      " [ 0.00900018]\n",
      " [-0.00997453]\n",
      " [ 0.09305064]\n",
      " [-0.03145874]\n",
      " [ 0.00577529]\n",
      " [-0.0347907 ]\n",
      " [-0.00732479]\n",
      " [-0.02858664]\n",
      " [-0.00588553]\n",
      " [ 0.02260088]\n",
      " [ 0.00765789]\n",
      " [-0.00128975]\n",
      " [-0.00128975]\n",
      " [-0.00128975]\n",
      " [ 0.01016681]\n",
      " [ 0.02387961]\n",
      " [-0.02246364]\n",
      " [-0.04510262]\n",
      " [-0.04122382]\n",
      " [-0.00232766]\n",
      " [ 0.02860522]\n",
      " [-0.00128975]\n",
      " [-0.00128975]\n",
      " [ 0.00829956]\n",
      " [-0.02624331]\n",
      " [-0.03865456]\n",
      " [-0.09917332]\n",
      " [ 0.00394879]\n",
      " [ 0.00719379]\n",
      " [-0.00871593]\n",
      " [-0.00128975]\n",
      " [ 0.02487568]\n",
      " [-0.01814097]\n",
      " [-0.00128975]\n",
      " [ 0.00575334]\n",
      " [-0.03145874]\n",
      " [-0.00232766]\n",
      " [-0.00232766]\n",
      " [-0.02033372]\n",
      " [-0.02246364]\n",
      " [-0.00128975]\n",
      " [-0.01054847]\n",
      " [ 0.01610596]\n",
      " [ 0.00379785]\n",
      " [-0.00128975]\n",
      " [ 0.04504316]\n",
      " [-0.01814097]\n",
      " [ 0.00502707]\n",
      " [ 0.00630524]\n",
      " [-0.00060288]\n",
      " [-0.00128975]\n",
      " [-0.06455894]\n",
      " [-0.00128975]\n",
      " [-0.01895529]\n",
      " [-0.03066212]\n",
      " [-0.01089356]\n",
      " [-0.00940874]\n",
      " [-0.02778875]\n",
      " [ 0.04023082]\n",
      " [-0.02033372]\n",
      " [-0.00128975]\n",
      " [ 0.01016681]\n",
      " [-0.01003373]\n",
      " [ 0.09305064]\n",
      " [-0.00128975]\n",
      " [-0.00288731]\n",
      " [-0.01814097]\n",
      " [-0.00027496]\n",
      " [ 0.00394879]\n",
      " [-0.01698384]\n",
      " [ 0.00502707]\n",
      " [-0.09917332]\n",
      " [ 0.04783244]\n",
      " [-0.1174295 ]\n",
      " [-0.00128975]\n",
      " [-0.02778875]\n",
      " [-0.00128975]\n",
      " [-0.00882594]\n",
      " [ 0.0072764 ]\n",
      " [-0.00052685]\n",
      " [ 0.00900018]\n",
      " [-0.00060288]\n",
      " [ 0.00282697]\n",
      " [-0.03066212]\n",
      " [ 0.01633369]\n",
      " [-0.01523627]\n",
      " [-0.00128975]\n",
      " [ 0.0055485 ]\n",
      " [-0.00027496]\n",
      " [-0.00128975]\n",
      " [-0.00128975]\n",
      " [-0.00489835]\n",
      " [ 0.02658596]\n",
      " [ 0.00502707]\n",
      " [-0.00128975]\n",
      " [ 0.02235528]\n",
      " [-0.04312319]\n",
      " [ 0.02373477]\n",
      " [-0.00128975]\n",
      " [ 0.09305064]\n",
      " [-0.04903349]\n",
      " [ 0.00069932]\n",
      " [-0.00128975]\n",
      " [-0.01054847]\n",
      " [-0.02033372]\n",
      " [ 0.01057437]\n",
      " [ 0.00630524]\n",
      " [ 0.00719379]\n",
      " [ 0.00577529]\n",
      " [-0.00232766]\n",
      " [ 0.00240837]\n",
      " [-0.00489835]\n",
      " [-0.04334806]\n",
      " [-0.00060288]\n",
      " [ 0.00719379]\n",
      " [ 0.00765789]\n",
      " [ 0.00282697]\n",
      " [-0.04662472]\n",
      " [ 0.04882451]\n",
      " [ 0.01152263]\n",
      " [-0.00060288]\n",
      " [ 0.01020634]\n",
      " [-0.02195179]\n",
      " [ 0.00379316]\n",
      " [ 0.01251703]\n",
      " [-0.00588553]\n",
      " [ 0.01326176]\n",
      " [-0.01176273]\n",
      " [-0.00128975]\n",
      " [ 0.03549597]\n",
      " [-0.01771978]\n",
      " [-0.00027496]\n",
      " [ 0.00544993]]\n"
     ]
    },
    {
     "name": "stderr",
     "output_type": "stream",
     "text": [
      "/anaconda3/lib/python3.7/site-packages/sklearn/ensemble/forest.py:246: FutureWarning: The default value of n_estimators will change from 10 in version 0.20 to 100 in 0.22.\n",
      "  \"10 in version 0.20 to 100 in 0.22.\", FutureWarning)\n"
     ]
    },
    {
     "data": {
      "text/plain": [
       "0.4547265363577607"
      ]
     },
     "execution_count": 578,
     "metadata": {},
     "output_type": "execute_result"
    }
   ],
   "source": [
    "\"\"\"1 Random Forest Learner\"\"\"\n",
    "\n",
    "rf = RandomForestRegressor()\n",
    "rf.fit(X_train.reshape(-1,1), y_train)\n",
    "prediction, bias, contributions = ti.predict(rf, X_test.reshape(-1,1))\n",
    "rf.predict(X_test.reshape(-1,1))\n",
    "rf.score(X_train.reshape(-1,1),y_train)"
   ]
  },
  {
   "cell_type": "code",
   "execution_count": 563,
   "metadata": {},
   "outputs": [
    {
     "data": {
      "text/plain": [
       "'2 Another Learner'"
      ]
     },
     "execution_count": 563,
     "metadata": {},
     "output_type": "execute_result"
    }
   ],
   "source": [
    "\"\"\"2 Another Learner\"\"\""
   ]
  },
  {
   "cell_type": "code",
   "execution_count": 564,
   "metadata": {},
   "outputs": [
    {
     "data": {
      "image/png": "[encoded data removed]",
      "text/plain": [
       "<Figure size 432x288 with 1 Axes>"
      ]
     },
     "metadata": {
      "needs_background": "light"
     },
     "output_type": "display_data"
    }
   ],
   "source": [
    "date_test = np.array([x[1] for x in test])\n",
    "plt.plot(date_test,y_test, label=\"actual\")\n",
    "plt.plot(date_test,prediction, label=\"Predicted\")\n",
    "plt.xlabel('Date') \n",
    "plt.ylabel('Price change')\n",
    "plt.title('My Experiment')\n",
    "plt.legend()\n",
    "plt.show()"
   ]
  },
  {
   "cell_type": "code",
   "execution_count": 574,
   "metadata": {},
   "outputs": [
    {
     "name": "stdout",
     "output_type": "stream",
     "text": [
      "[ 0.03092784  0.06       -0.00471698  0.01895735  0.          0.03255814\n",
      "  0.00900901 -0.00446429  0.          0.0044843   0.00446429  0.01777778\n",
      "  0.          0.          0.          0.02183406 -0.02564103  0.00438596\n",
      "  0.         -0.03930131  0.03636364 -0.01315789  0.00444444  0.\n",
      "  0.         -0.02654867  0.00454545  0.01357466  0.          0.\n",
      "  0.         -0.03571429 -0.00462963 -0.00465116 -0.0046729  -0.01408451\n",
      " -0.05714286  0.          0.08585859  0.00930233  0.          0.\n",
      "  0.00460829  0.05045872  0.02620087 -0.06382979  0.          0.\n",
      " -0.00909091  0.          0.          0.03211009 -0.02666667 -0.01826484\n",
      " -0.01860465 -0.03317536  0.01960784  0.         -0.00480769  0.\n",
      "  0.00483092  0.          0.02884615 -0.01401869  0.09952607  0.0387931\n",
      "  0.          0.         -0.00414938  0.04583333  0.          0.00796813\n",
      " -0.01581028  0.01606426 -0.01581028  0.          0.00401606  0.028\n",
      "  0.0311284  -0.07169811  0.          0.         -0.03658537 -0.03375527\n",
      " -0.01310044  0.02654867 -0.10344828 -0.01442308  0.         -0.08292683\n",
      " -0.0106383   0.02688172  0.         -0.06282723 -0.01117318  0.\n",
      "  0.         -0.06214689  0.          0.01204819 -0.07738095  0.\n",
      " -0.03225806 -0.04666667  0.          0.          0.          0.46153846\n",
      "  0.          0.09569378  0.          0.          0.00436681  0.01304348\n",
      " -0.02575107  0.01321586 -0.05217391  0.00917431 -0.04090909 -0.00473934\n",
      "  0.02380952  0.          0.         -0.01860465  0.          0.04739336\n",
      "  0.          0.          0.          0.11764706  0.00404858 -0.00806452\n",
      "  0.04065041  0.02734375 -0.03802281  0.         -0.01185771 -0.012\n",
      "  0.          0.07692308  0.         -0.0075188   0.          0.\n",
      "  0.01136364 -0.06367041 -0.012       0.         -0.01214575 -0.05737705\n",
      "  0.00869565  0.         -0.02586207  0.02212389  0.          0.\n",
      " -0.10822511  0.00485437  0.          0.00966184  0.          0.00478469\n",
      " -0.03333333 -0.07881773  0.00534759  0.06914894 -0.00995025  0.\n",
      " -0.02512563  0.00515464 -0.03589744  0.01595745  0.03141361  0.02538071\n",
      "  0.04950495  0.01886792  0.00462963  0.         -0.05529954  0.00487805\n",
      "  0.         -0.02427184 -0.039801   -0.01036269  0.          0.\n",
      "  0.10471204 -0.00473934  0.08095238  0.         -0.03524229 -0.02283105\n",
      "  0.          0.          0.13084112  0.02066116  0.04048583 -0.0233463\n",
      " -0.03585657  0.          0.03719008  0.          0.03984064  0.0651341\n",
      "  0.01438849  0.         -0.07446809  0.00383142  0.         -0.02290076\n",
      "  0.0234375  -0.09160305  0.         -0.06722689  0.01801802 -0.03097345\n",
      "  0.05479452 -0.11688312 -0.00490196  0.03448276  0.          0.\n",
      " -0.01428571 -0.0821256   0.10526316 -0.01428571 -0.00483092 -0.03398058\n",
      "  0.          0.          0.08040201 -0.0372093   0.          0.00483092\n",
      "  0.12019231 -0.01287554  0.0173913   0.05982906 -0.125      -0.0875576\n",
      "  0.          0.         -0.18686869 -0.07453416  0.         -0.06040268\n",
      "  0.         -0.01428571  0.04347826 -0.13888889  0.          0.02419355\n",
      "  0.         -0.05511811  0.          0.05        0.          0.50793651\n",
      " -0.02631579 -0.01081081 -0.03278689 -0.06214689  0.          0.\n",
      "  0.         -0.11445783 -0.17687075  0.00826446  0.04098361 -0.03937008\n",
      "  0.00819672  0.         -0.1300813  -0.04672897 -0.02941176  0.04040404\n",
      " -0.05825243  0.          0.         -0.05154639  0.13043478  0.\n",
      "  0.          0.         -0.06730769 -0.05154639 -0.05434783  0.\n",
      " -0.04597701  0.04819277  0.         -0.20689655 -0.20289855  0.07272727\n",
      "  0.          0.         -0.08474576  0.         -0.01851852 -0.03773585\n",
      "  0.01960784 -0.03846154  0.02       -0.01960784 -0.1        -0.04444444\n",
      " -0.04651163 -0.02439024  0.025       0.07317073 -0.02272727  0.\n",
      "  0.          0.         -0.13953488  0.          0.          0.\n",
      " -0.05405405  0.          0.          0.          0.08571429  0.\n",
      "  0.         -0.10526316  0.02941176 -0.02857143  0.          0.08823529\n",
      "  0.02702703  0.02631579 -0.05128205 -0.10810811  0.03030303  0.\n",
      " -0.02941176  0.03030303 -0.02941176  0.06060606  0.         -0.05714286\n",
      "  0.         -0.03030303  0.          0.          0.          0.03125\n",
      "  0.        ]\n"
     ]
    },
    {
     "data": {
      "text/plain": [
       "7.046647359054692e-05"
      ]
     },
     "execution_count": 574,
     "metadata": {},
     "output_type": "execute_result"
    }
   ],
   "source": [
    "\"\"\"2 Linear Regression\"\"\"\n",
    "\n",
    "from sklearn.linear_model import LinearRegression \n",
    "\n",
    "regr = LinearRegression()  \n",
    "regr.fit(X_train.reshape(-1,1), y_train)  \n",
    "a=regr.predict(X_test.reshape(-1,1))\n",
    "regr.score(X_train.reshape(-1,1),y_train)"
   ]
  },
  {
   "cell_type": "code",
   "execution_count": 572,
   "metadata": {},
   "outputs": [
    {
     "data": {
      "image/png": "[encoded data removed]",
      "text/plain": [
       "<Figure size 432x288 with 1 Axes>"
      ]
     },
     "metadata": {
      "needs_background": "light"
     },
     "output_type": "display_data"
    }
   ],
   "source": [
    "date_test = np.array([x[1] for x in test])\n",
    "plt.plot(date_test,y_test, label=\"actual\")\n",
    "plt.plot(date_test,a, label=\"Predicted\")\n",
    "plt.xlabel('Date') \n",
    "plt.ylabel('Price change')\n",
    "plt.title('Linear Regression')\n",
    "plt.legend()\n",
    "plt.show()"
   ]
  },
  {
   "cell_type": "code",
   "execution_count": null,
   "metadata": {},
   "outputs": [],
   "source": []
  },
  {
   "cell_type": "code",
   "execution_count": null,
   "metadata": {},
   "outputs": [],
   "source": []
  },
  {
   "cell_type": "code",
   "execution_count": null,
   "metadata": {},
   "outputs": [],
   "source": []
  },
  {
   "cell_type": "code",
   "execution_count": null,
   "metadata": {},
   "outputs": [],
   "source": []
  },
  {
   "cell_type": "code",
   "execution_count": null,
   "metadata": {},
   "outputs": [],
   "source": []
  },
  {
   "cell_type": "code",
   "execution_count": null,
   "metadata": {},
   "outputs": [],
   "source": []
  },
  {
   "cell_type": "code",
   "execution_count": null,
   "metadata": {},
   "outputs": [],
   "source": []
  },
  {
   "cell_type": "code",
   "execution_count": null,
   "metadata": {},
   "outputs": [],
   "source": []
  },
  {
   "cell_type": "code",
   "execution_count": null,
   "metadata": {},
   "outputs": [],
   "source": []
  },
  {
   "cell_type": "code",
   "execution_count": null,
   "metadata": {},
   "outputs": [],
   "source": []
  },
  {
   "cell_type": "code",
   "execution_count": null,
   "metadata": {},
   "outputs": [],
   "source": []
  },
  {
   "cell_type": "code",
   "execution_count": null,
   "metadata": {},
   "outputs": [],
   "source": []
  },
  {
   "cell_type": "code",
   "execution_count": null,
   "metadata": {},
   "outputs": [],
   "source": []
  },
  {
   "cell_type": "code",
   "execution_count": null,
   "metadata": {},
   "outputs": [],
   "source": []
  },
  {
   "cell_type": "code",
   "execution_count": null,
   "metadata": {},
   "outputs": [],
   "source": []
  },
  {
   "cell_type": "code",
   "execution_count": null,
   "metadata": {},
   "outputs": [],
   "source": []
  },
  {
   "cell_type": "code",
   "execution_count": null,
   "metadata": {},
   "outputs": [],
   "source": []
  },
  {
   "cell_type": "code",
   "execution_count": null,
   "metadata": {},
   "outputs": [],
   "source": []
  },
  {
   "cell_type": "code",
   "execution_count": null,
   "metadata": {},
   "outputs": [],
   "source": []
  }
 ],
 "metadata": {
  "kernelspec": {
   "display_name": "Python 3",
   "language": "python",
   "name": "python3"
  },
  "language_info": {
   "codemirror_mode": {
    "name": "ipython",
    "version": 3
   },
   "file_extension": ".py",
   "mimetype": "text/x-python",
   "name": "python",
   "nbconvert_exporter": "python",
   "pygments_lexer": "ipython3",
   "version": "3.7.3"
  }
 },
 "nbformat": 4,
 "nbformat_minor": 2
}
