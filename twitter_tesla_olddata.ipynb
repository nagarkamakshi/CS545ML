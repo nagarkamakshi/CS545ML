{
 "cells": [
  {
   "cell_type": "code",
   "execution_count": 3,
   "metadata": {},
   "outputs": [],
   "source": [
    "\"\"\"Initial Imports\"\"\"\n",
    "import pandas as pd\n",
    "import numpy as np\n",
    "import re\n",
    "import tweepy\n",
    "import datetime\n",
    "from pandas_datareader import data as web\n",
    "from textblob import TextBlob\n",
    "from sklearn.svm import SVR\n",
    "from treeinterpreter import treeinterpreter as ti\n",
    "from sklearn.ensemble import RandomForestRegressor\n",
    "import matplotlib.pyplot as plt\n",
    "from sklearn.model_selection import train_test_split"
   ]
  },
  {
   "cell_type": "code",
   "execution_count": 3,
   "metadata": {},
   "outputs": [
    {
     "name": "stdout",
     "output_type": "stream",
     "text": [
      "Created CSV\n"
     ]
    }
   ],
   "source": [
    "consumer_key = \"W8olFrRLK7Lt7BUh6YAbdSG4h\"\n",
    "consumer_secret = \"izRdiwC73rntSdMdAQm2gL8zFNAHVLa99A8dI99w0Lz16jvNrx\"\n",
    "\n",
    "access_token = \"620364433-Kj5up6bB6KLfl5wfmxxcAnWthse5o38P2MKABM00\"\n",
    "access_token_secret = \"Faxxv0hb54KF7MmakQ8WZmvaCC5YIprcWhiOuEyQY2iLt\"\n",
    "\n",
    "auth = tweepy.OAuthHandler(consumer_key, consumer_secret)\n",
    "auth.set_access_token(access_token, access_token_secret)\n",
    "api = tweepy.API(auth,wait_on_rate_limit=True)\n",
    "\n",
    "fetch_tweets=tweepy.Cursor(api.search, q=\"#TSLA\",count=100, lang =\"en\",since=\"2019-9-25\", tweet_mode=\"extended\").items()\n",
    "data=pd.DataFrame(data=[[tweet_info.created_at.date(),tweet_info.full_text]for tweet_info in fetch_tweets],columns=['Date','Tweets'])\n",
    "\n",
    "data.to_csv(\"TeslaTweets.csv\")\n",
    "cdata=pd.DataFrame(columns=['Date','Tweets'])\n",
    "print(\"Created CSV\")"
   ]
  },
  {
   "cell_type": "code",
   "execution_count": 4,
   "metadata": {},
   "outputs": [],
   "source": [
    "##Read the data\n",
    "data = pd.read_csv('tweets_data_old_elonmusk.csv')"
   ]
  },
  {
   "cell_type": "code",
   "execution_count": 5,
   "metadata": {},
   "outputs": [
    {
     "name": "stdout",
     "output_type": "stream",
     "text": [
      "3218\n"
     ]
    }
   ],
   "source": [
    "cdata=pd.DataFrame(columns=['Date','Tweets'])\n",
    "print(len(data))"
   ]
  },
  {
   "cell_type": "code",
   "execution_count": 6,
   "metadata": {},
   "outputs": [],
   "source": [
    "##clean up the tweets\n",
    "index=0\n",
    "for index,row in data.iterrows():\n",
    "    stre=row[\"Tweets\"]\n",
    "    my_new_string = re.sub('[^ a-zA-Z0-9]', '', stre)\n",
    "    cdata.sort_index()\n",
    "    cdata.at[index,'Date'] =row[\"Date\"]\n",
    "    cdata.at[index,'Tweets']= my_new_string\n",
    "    #index=index+1\n",
    "ccdata=pd.DataFrame(columns=['Date','Tweets'])"
   ]
  },
  {
   "cell_type": "code",
   "execution_count": 7,
   "metadata": {},
   "outputs": [],
   "source": [
    "#clubbed tweets date wise\n",
    "indx=0\n",
    "get_tweet=\"\"\n",
    "for i in range(0,len(cdata)-1):\n",
    "    get_date=cdata.Date.iloc[i]\n",
    "    next_date=cdata.Date.iloc[i+1]\n",
    "    if(str(get_date)==str(next_date)):\n",
    "        get_tweet=get_tweet+cdata.Tweets.iloc[i]+\" \"\n",
    "    if(str(get_date)!=str(next_date)):\n",
    "        ccdata.at[indx,'Date']=get_date\n",
    "        ccdata.at[indx,'Tweets']=get_tweet\n",
    "        indx+=1\n",
    "        get_tweet=\" \""
   ]
  },
  {
   "cell_type": "code",
   "execution_count": 9,
   "metadata": {},
   "outputs": [
    {
     "data": {
      "text/html": [
       "<div>\n",
       "<style scoped>\n",
       "    .dataframe tbody tr th:only-of-type {\n",
       "        vertical-align: middle;\n",
       "    }\n",
       "\n",
       "    .dataframe tbody tr th {\n",
       "        vertical-align: top;\n",
       "    }\n",
       "\n",
       "    .dataframe thead th {\n",
       "        text-align: right;\n",
       "    }\n",
       "</style>\n",
       "<table border=\"1\" class=\"dataframe\">\n",
       "  <thead>\n",
       "    <tr style=\"text-align: right;\">\n",
       "      <th></th>\n",
       "      <th>Unnamed: 0</th>\n",
       "      <th>Date</th>\n",
       "      <th>Tweets</th>\n",
       "    </tr>\n",
       "  </thead>\n",
       "  <tbody>\n",
       "    <tr>\n",
       "      <th>0</th>\n",
       "      <td>0</td>\n",
       "      <td>9/29/2017</td>\n",
       "      <td>MeltingIce Assuming max acceleration of 2 to 3...</td>\n",
       "    </tr>\n",
       "    <tr>\n",
       "      <th>1</th>\n",
       "      <td>1</td>\n",
       "      <td>9/28/2017</td>\n",
       "      <td>kevinroose Just another day in the office Fas...</td>\n",
       "    </tr>\n",
       "    <tr>\n",
       "      <th>2</th>\n",
       "      <td>2</td>\n",
       "      <td>9/27/2017</td>\n",
       "      <td>Prev ideas for paying 10B dev cost incl Kicks...</td>\n",
       "    </tr>\n",
       "    <tr>\n",
       "      <th>3</th>\n",
       "      <td>3</td>\n",
       "      <td>9/26/2017</td>\n",
       "      <td>ElDeano Daimler Jalopnik Yes I did  Good NYT ...</td>\n",
       "    </tr>\n",
       "    <tr>\n",
       "      <th>4</th>\n",
       "      <td>4</td>\n",
       "      <td>9/25/2017</td>\n",
       "      <td>Daimler Good Major improvements  some unexpec...</td>\n",
       "    </tr>\n",
       "  </tbody>\n",
       "</table>\n",
       "</div>"
      ],
      "text/plain": [
       "   Unnamed: 0       Date                                             Tweets\n",
       "0           0  9/29/2017  MeltingIce Assuming max acceleration of 2 to 3...\n",
       "1           1  9/28/2017   kevinroose Just another day in the office Fas...\n",
       "2           2  9/27/2017   Prev ideas for paying 10B dev cost incl Kicks...\n",
       "3           3  9/26/2017   ElDeano Daimler Jalopnik Yes I did  Good NYT ...\n",
       "4           4  9/25/2017   Daimler Good Major improvements  some unexpec..."
      ]
     },
     "execution_count": 9,
     "metadata": {},
     "output_type": "execute_result"
    }
   ],
   "source": [
    "ccdata = pd.read_csv('Tesla_tweets_old.csv')\n",
    "ccdata.head()"
   ]
  },
  {
   "cell_type": "code",
   "execution_count": 11,
   "metadata": {},
   "outputs": [
    {
     "name": "stdout",
     "output_type": "stream",
     "text": [
      "% of positive tweets=  87.97814207650273\n",
      "% of negative tweets=  12.021857923497267\n"
     ]
    },
    {
     "data": {
      "text/plain": [
       "[]"
      ]
     },
     "execution_count": 11,
     "metadata": {},
     "output_type": "execute_result"
    },
    {
     "data": {
      "image/png": "[encoded data removed]",
      "text/plain": [
       "<Figure size 432x288 with 1 Axes>"
      ]
     },
     "metadata": {},
     "output_type": "display_data"
    }
   ],
   "source": [
    "\"\"\"Doing Sentiment Analysis of tweets\"\"\"\n",
    "\n",
    "ccdata['polarity'] = 0.0000\n",
    "for index,row in ccdata.iterrows():\n",
    "    analysis = TextBlob(ccdata['Tweets'][index])\n",
    "    sentiment, confidence  = analysis.sentiment\n",
    "    ccdata.at[index,'polarity'] = sentiment\n",
    "    \n",
    "posi=0\n",
    "nega=0\n",
    "for i in range (0,len(ccdata)):\n",
    "    get_val=ccdata['polarity'][i]\n",
    "    if(float(get_val)<(0)):\n",
    "        nega=nega+1\n",
    "    else:\n",
    "        posi=posi+1\n",
    "        \n",
    "posper=(posi/(len(ccdata)))*100\n",
    "negper=(nega/(len(ccdata)))*100\n",
    "print(\"% of positive tweets= \",posper)\n",
    "print(\"% of negative tweets= \",negper)\n",
    "arr=np.asarray([posper,negper], dtype=int)\n",
    "plt.pie(arr,labels=['positive','negative'])\n",
    "plt.plot()"
   ]
  },
  {
   "cell_type": "code",
   "execution_count": 12,
   "metadata": {},
   "outputs": [],
   "source": [
    "\"\"\"Get Stock Price From Yahoo using Pandas.dataReader\"\"\"\n",
    "\n",
    "start = datetime.datetime(2012,10,26)\n",
    "## Let's get Tesla stock data; Tesla's ticker symbol is TSLA\n",
    "## First argument is the series we want, second is the source (\"yahoo\" for Yahoo! Finance), third is the start date, \n",
    "##fourth is the end date\n",
    "tesla = web.DataReader('TSLA', 'yahoo', start)\n",
    "#tesla.to_csv('TESLA_stock_price.csv')"
   ]
  },
  {
   "cell_type": "code",
   "execution_count": 25,
   "metadata": {},
   "outputs": [
    {
     "data": {
      "text/html": [
       "<div>\n",
       "<style scoped>\n",
       "    .dataframe tbody tr th:only-of-type {\n",
       "        vertical-align: middle;\n",
       "    }\n",
       "\n",
       "    .dataframe tbody tr th {\n",
       "        vertical-align: top;\n",
       "    }\n",
       "\n",
       "    .dataframe thead th {\n",
       "        text-align: right;\n",
       "    }\n",
       "</style>\n",
       "<table border=\"1\" class=\"dataframe\">\n",
       "  <thead>\n",
       "    <tr style=\"text-align: right;\">\n",
       "      <th></th>\n",
       "      <th>Date</th>\n",
       "      <th>High</th>\n",
       "      <th>Low</th>\n",
       "      <th>Open</th>\n",
       "      <th>Close</th>\n",
       "      <th>Volume</th>\n",
       "      <th>Adj Close</th>\n",
       "    </tr>\n",
       "  </thead>\n",
       "  <tbody>\n",
       "    <tr>\n",
       "      <th>0</th>\n",
       "      <td>10/26/2012</td>\n",
       "      <td>27.799999</td>\n",
       "      <td>27.020000</td>\n",
       "      <td>27.530001</td>\n",
       "      <td>27.379999</td>\n",
       "      <td>477400</td>\n",
       "      <td>27.379999</td>\n",
       "    </tr>\n",
       "    <tr>\n",
       "      <th>1</th>\n",
       "      <td>10/31/2012</td>\n",
       "      <td>28.350000</td>\n",
       "      <td>27.370001</td>\n",
       "      <td>27.700001</td>\n",
       "      <td>28.129999</td>\n",
       "      <td>775200</td>\n",
       "      <td>28.129999</td>\n",
       "    </tr>\n",
       "    <tr>\n",
       "      <th>2</th>\n",
       "      <td>11/1/2012</td>\n",
       "      <td>29.490000</td>\n",
       "      <td>28.200001</td>\n",
       "      <td>28.250000</td>\n",
       "      <td>29.250000</td>\n",
       "      <td>1024100</td>\n",
       "      <td>29.250000</td>\n",
       "    </tr>\n",
       "    <tr>\n",
       "      <th>3</th>\n",
       "      <td>11/2/2012</td>\n",
       "      <td>29.549999</td>\n",
       "      <td>28.549999</td>\n",
       "      <td>29.270000</td>\n",
       "      <td>28.920000</td>\n",
       "      <td>1030300</td>\n",
       "      <td>28.920000</td>\n",
       "    </tr>\n",
       "    <tr>\n",
       "      <th>4</th>\n",
       "      <td>11/5/2012</td>\n",
       "      <td>31.580000</td>\n",
       "      <td>29.330000</td>\n",
       "      <td>29.799999</td>\n",
       "      <td>31.500000</td>\n",
       "      <td>2048900</td>\n",
       "      <td>31.500000</td>\n",
       "    </tr>\n",
       "  </tbody>\n",
       "</table>\n",
       "</div>"
      ],
      "text/plain": [
       "         Date       High        Low       Open      Close   Volume  Adj Close\n",
       "0  10/26/2012  27.799999  27.020000  27.530001  27.379999   477400  27.379999\n",
       "1  10/31/2012  28.350000  27.370001  27.700001  28.129999   775200  28.129999\n",
       "2   11/1/2012  29.490000  28.200001  28.250000  29.250000  1024100  29.250000\n",
       "3   11/2/2012  29.549999  28.549999  29.270000  28.920000  1030300  28.920000\n",
       "4   11/5/2012  31.580000  29.330000  29.799999  31.500000  2048900  31.500000"
      ]
     },
     "execution_count": 25,
     "metadata": {},
     "output_type": "execute_result"
    }
   ],
   "source": [
    "read_stock_p=pd.read_csv('TESLA_stock_price.csv')\n",
    "read_stock_p.head()"
   ]
  },
  {
   "cell_type": "code",
   "execution_count": 26,
   "metadata": {},
   "outputs": [],
   "source": [
    "\"\"\"Add the stock price value matching tweets for the day\"\"\"\n",
    "\n",
    "ccdata['Prices']=\"\"\n",
    "indx=0\n",
    "for i in range (0,len(ccdata)):\n",
    "    for j in range (0,len(read_stock_p)):\n",
    "        get_tweet_date=ccdata.Date.iloc[i]\n",
    "        get_stock_date=read_stock_p.Date.iloc[j]             \n",
    "        if(str(get_stock_date)==str(get_tweet_date)):\n",
    "            #print(get_stock_date,\" \",get_tweet_date)\n",
    "            ccdata.at[i,'Prices']=int(read_stock_p.Close[j])\n",
    "            break"
   ]
  },
  {
   "cell_type": "code",
   "execution_count": null,
   "metadata": {},
   "outputs": [],
   "source": [
    "\"\"\"Show that there are some empty fields for days when stock Market is closed\"\"\""
   ]
  },
  {
   "cell_type": "code",
   "execution_count": 27,
   "metadata": {},
   "outputs": [
    {
     "data": {
      "text/html": [
       "<div>\n",
       "<style scoped>\n",
       "    .dataframe tbody tr th:only-of-type {\n",
       "        vertical-align: middle;\n",
       "    }\n",
       "\n",
       "    .dataframe tbody tr th {\n",
       "        vertical-align: top;\n",
       "    }\n",
       "\n",
       "    .dataframe thead th {\n",
       "        text-align: right;\n",
       "    }\n",
       "</style>\n",
       "<table border=\"1\" class=\"dataframe\">\n",
       "  <thead>\n",
       "    <tr style=\"text-align: right;\">\n",
       "      <th></th>\n",
       "      <th>Unnamed: 0</th>\n",
       "      <th>Date</th>\n",
       "      <th>Tweets</th>\n",
       "      <th>polarity</th>\n",
       "      <th>Prices</th>\n",
       "    </tr>\n",
       "  </thead>\n",
       "  <tbody>\n",
       "    <tr>\n",
       "      <th>0</th>\n",
       "      <td>0</td>\n",
       "      <td>9/29/2017</td>\n",
       "      <td>MeltingIce Assuming max acceleration of 2 to 3...</td>\n",
       "      <td>0.156151</td>\n",
       "      <td>341</td>\n",
       "    </tr>\n",
       "    <tr>\n",
       "      <th>1</th>\n",
       "      <td>1</td>\n",
       "      <td>9/28/2017</td>\n",
       "      <td>kevinroose Just another day in the office Fas...</td>\n",
       "      <td>0.500000</td>\n",
       "      <td>339</td>\n",
       "    </tr>\n",
       "    <tr>\n",
       "      <th>2</th>\n",
       "      <td>2</td>\n",
       "      <td>9/27/2017</td>\n",
       "      <td>Prev ideas for paying 10B dev cost incl Kicks...</td>\n",
       "      <td>-0.133333</td>\n",
       "      <td>340</td>\n",
       "    </tr>\n",
       "    <tr>\n",
       "      <th>3</th>\n",
       "      <td>3</td>\n",
       "      <td>9/26/2017</td>\n",
       "      <td>ElDeano Daimler Jalopnik Yes I did  Good NYT ...</td>\n",
       "      <td>0.350000</td>\n",
       "      <td>345</td>\n",
       "    </tr>\n",
       "    <tr>\n",
       "      <th>4</th>\n",
       "      <td>4</td>\n",
       "      <td>9/25/2017</td>\n",
       "      <td>Daimler Good Major improvements  some unexpec...</td>\n",
       "      <td>0.287500</td>\n",
       "      <td>344</td>\n",
       "    </tr>\n",
       "    <tr>\n",
       "      <th>5</th>\n",
       "      <td>9</td>\n",
       "      <td>9/16/2017</td>\n",
       "      <td>Richwsadler Does my hivemind count as me Bobb...</td>\n",
       "      <td>-0.125000</td>\n",
       "      <td></td>\n",
       "    </tr>\n",
       "    <tr>\n",
       "      <th>6</th>\n",
       "      <td>11</td>\n",
       "      <td>9/14/2017</td>\n",
       "      <td>High res version at httpstcoYysKftHhoz jovani...</td>\n",
       "      <td>0.187143</td>\n",
       "      <td>377</td>\n",
       "    </tr>\n",
       "    <tr>\n",
       "      <th>7</th>\n",
       "      <td>13</td>\n",
       "      <td>9/12/2017</td>\n",
       "      <td>RT Gizmodo Hackers have already started to we...</td>\n",
       "      <td>-0.600000</td>\n",
       "      <td>362</td>\n",
       "    </tr>\n",
       "  </tbody>\n",
       "</table>\n",
       "</div>"
      ],
      "text/plain": [
       "   Unnamed: 0       Date                                             Tweets  \\\n",
       "0           0  9/29/2017  MeltingIce Assuming max acceleration of 2 to 3...   \n",
       "1           1  9/28/2017   kevinroose Just another day in the office Fas...   \n",
       "2           2  9/27/2017   Prev ideas for paying 10B dev cost incl Kicks...   \n",
       "3           3  9/26/2017   ElDeano Daimler Jalopnik Yes I did  Good NYT ...   \n",
       "4           4  9/25/2017   Daimler Good Major improvements  some unexpec...   \n",
       "5           9  9/16/2017   Richwsadler Does my hivemind count as me Bobb...   \n",
       "6          11  9/14/2017   High res version at httpstcoYysKftHhoz jovani...   \n",
       "7          13  9/12/2017   RT Gizmodo Hackers have already started to we...   \n",
       "\n",
       "   polarity Prices  \n",
       "0  0.156151    341  \n",
       "1  0.500000    339  \n",
       "2 -0.133333    340  \n",
       "3  0.350000    345  \n",
       "4  0.287500    344  \n",
       "5 -0.125000         \n",
       "6  0.187143    377  \n",
       "7 -0.600000    362  "
      ]
     },
     "execution_count": 27,
     "metadata": {},
     "output_type": "execute_result"
    }
   ],
   "source": [
    "ccdata.head(8)"
   ]
  },
  {
   "cell_type": "code",
   "execution_count": 28,
   "metadata": {},
   "outputs": [
    {
     "name": "stderr",
     "output_type": "stream",
     "text": [
      "C:\\Users\\Kamakshi\\Anaconda3\\lib\\site-packages\\pandas\\core\\indexing.py:190: SettingWithCopyWarning: \n",
      "A value is trying to be set on a copy of a slice from a DataFrame\n",
      "\n",
      "See the caveats in the documentation: http://pandas.pydata.org/pandas-docs/stable/indexing.html#indexing-view-versus-copy\n",
      "  self._setitem_with_indexer(indexer, value)\n"
     ]
    }
   ],
   "source": [
    "\"\"\"Filling empty price with previous day price\"\"\"\n",
    "for i in range(1,len(ccdata)):\n",
    "    if(ccdata.Prices.iloc[i]==\"\"):\n",
    "            ccdata.Prices.iloc[i]=int(ccdata.Prices.iloc[i-1])\n",
    "\n",
    "#ccdata['Prices'] = ccdata['Prices'].apply(np.int64)\n"
   ]
  },
  {
   "cell_type": "code",
   "execution_count": 241,
   "metadata": {},
   "outputs": [
    {
     "data": {
      "text/html": [
       "<div>\n",
       "<style scoped>\n",
       "    .dataframe tbody tr th:only-of-type {\n",
       "        vertical-align: middle;\n",
       "    }\n",
       "\n",
       "    .dataframe tbody tr th {\n",
       "        vertical-align: top;\n",
       "    }\n",
       "\n",
       "    .dataframe thead th {\n",
       "        text-align: right;\n",
       "    }\n",
       "</style>\n",
       "<table border=\"1\" class=\"dataframe\">\n",
       "  <thead>\n",
       "    <tr style=\"text-align: right;\">\n",
       "      <th></th>\n",
       "      <th>Date</th>\n",
       "      <th>Tweets</th>\n",
       "      <th>polarity</th>\n",
       "      <th>Prices</th>\n",
       "    </tr>\n",
       "  </thead>\n",
       "  <tbody>\n",
       "    <tr>\n",
       "      <th>0</th>\n",
       "      <td>9/29/2017</td>\n",
       "      <td>MeltingIce Assuming max acceleration of 2 to 3...</td>\n",
       "      <td>0.156151</td>\n",
       "      <td>341</td>\n",
       "    </tr>\n",
       "    <tr>\n",
       "      <th>1</th>\n",
       "      <td>9/28/2017</td>\n",
       "      <td>kevinroose Just another day in the office Fas...</td>\n",
       "      <td>0.500000</td>\n",
       "      <td>339</td>\n",
       "    </tr>\n",
       "    <tr>\n",
       "      <th>2</th>\n",
       "      <td>9/27/2017</td>\n",
       "      <td>Prev ideas for paying 10B dev cost incl Kicks...</td>\n",
       "      <td>-0.133333</td>\n",
       "      <td>340</td>\n",
       "    </tr>\n",
       "    <tr>\n",
       "      <th>3</th>\n",
       "      <td>9/26/2017</td>\n",
       "      <td>ElDeano Daimler Jalopnik Yes I did  Good NYT ...</td>\n",
       "      <td>0.350000</td>\n",
       "      <td>345</td>\n",
       "    </tr>\n",
       "    <tr>\n",
       "      <th>4</th>\n",
       "      <td>9/25/2017</td>\n",
       "      <td>Daimler Good Major improvements  some unexpec...</td>\n",
       "      <td>0.287500</td>\n",
       "      <td>344</td>\n",
       "    </tr>\n",
       "    <tr>\n",
       "      <th>5</th>\n",
       "      <td>9/16/2017</td>\n",
       "      <td>Richwsadler Does my hivemind count as me Bobb...</td>\n",
       "      <td>-0.125000</td>\n",
       "      <td>344</td>\n",
       "    </tr>\n",
       "  </tbody>\n",
       "</table>\n",
       "</div>"
      ],
      "text/plain": [
       "        Date                                             Tweets  polarity  \\\n",
       "0  9/29/2017  MeltingIce Assuming max acceleration of 2 to 3...  0.156151   \n",
       "1  9/28/2017   kevinroose Just another day in the office Fas...  0.500000   \n",
       "2  9/27/2017   Prev ideas for paying 10B dev cost incl Kicks... -0.133333   \n",
       "3  9/26/2017   ElDeano Daimler Jalopnik Yes I did  Good NYT ...  0.350000   \n",
       "4  9/25/2017   Daimler Good Major improvements  some unexpec...  0.287500   \n",
       "5  9/16/2017   Richwsadler Does my hivemind count as me Bobb... -0.125000   \n",
       "\n",
       "   Prices  \n",
       "0     341  \n",
       "1     339  \n",
       "2     340  \n",
       "3     345  \n",
       "4     344  \n",
       "5     344  "
      ]
     },
     "execution_count": 241,
     "metadata": {},
     "output_type": "execute_result"
    }
   ],
   "source": [
    "ccdata.head(6)"
   ]
  },
  {
   "cell_type": "code",
   "execution_count": 47,
   "metadata": {},
   "outputs": [
    {
     "data": {
      "text/plain": [
       "Unnamed: 0          int64\n",
       "Date               object\n",
       "Tweets             object\n",
       "polarity          float64\n",
       "Prices              int64\n",
       "percent change    float64\n",
       "dtype: object"
      ]
     },
     "execution_count": 47,
     "metadata": {},
     "output_type": "execute_result"
    }
   ],
   "source": [
    "\"\"\"Adding Percent change column in the dataset\"\"\"\n",
    "ccdata['percent change'] = 0.0000\n",
    "for i in range(0,len(ccdata)-1):\n",
    "    ccdata.at[i,'percent change']=float((ccdata.Prices.iloc[i+1]-ccdata.Prices.iloc[i])/ccdata.Prices.iloc[i])\n",
    "\n",
    "#ccdata['percent change'] = ccdata['percent change'].apply(np.float)\n",
    "ccdata.dtypes  "
   ]
  },
  {
   "cell_type": "code",
   "execution_count": 33,
   "metadata": {},
   "outputs": [
    {
     "data": {
      "text/plain": [
       "(549, 6)"
      ]
     },
     "execution_count": 33,
     "metadata": {},
     "output_type": "execute_result"
    }
   ],
   "source": [
    "ccdata.shape"
   ]
  },
  {
   "cell_type": "code",
   "execution_count": 34,
   "metadata": {},
   "outputs": [],
   "source": [
    "ccdata.to_csv(\"Tesla_tweets_with_stocks_old.csv\")"
   ]
  },
  {
   "cell_type": "code",
   "execution_count": 36,
   "metadata": {},
   "outputs": [
    {
     "data": {
      "text/html": [
       "<div>\n",
       "<style scoped>\n",
       "    .dataframe tbody tr th:only-of-type {\n",
       "        vertical-align: middle;\n",
       "    }\n",
       "\n",
       "    .dataframe tbody tr th {\n",
       "        vertical-align: top;\n",
       "    }\n",
       "\n",
       "    .dataframe thead th {\n",
       "        text-align: right;\n",
       "    }\n",
       "</style>\n",
       "<table border=\"1\" class=\"dataframe\">\n",
       "  <thead>\n",
       "    <tr style=\"text-align: right;\">\n",
       "      <th></th>\n",
       "      <th>Unnamed: 0</th>\n",
       "      <th>Date</th>\n",
       "      <th>Tweets</th>\n",
       "      <th>polarity</th>\n",
       "      <th>Prices</th>\n",
       "      <th>percent change</th>\n",
       "    </tr>\n",
       "  </thead>\n",
       "  <tbody>\n",
       "    <tr>\n",
       "      <th>0</th>\n",
       "      <td>0</td>\n",
       "      <td>9/29/2017</td>\n",
       "      <td>MeltingIce Assuming max acceleration of 2 to 3...</td>\n",
       "      <td>0.156151</td>\n",
       "      <td>341</td>\n",
       "      <td>-0.0058651</td>\n",
       "    </tr>\n",
       "    <tr>\n",
       "      <th>1</th>\n",
       "      <td>1</td>\n",
       "      <td>9/28/2017</td>\n",
       "      <td>kevinroose Just another day in the office Fas...</td>\n",
       "      <td>0.500000</td>\n",
       "      <td>339</td>\n",
       "      <td>0.00294985</td>\n",
       "    </tr>\n",
       "    <tr>\n",
       "      <th>2</th>\n",
       "      <td>2</td>\n",
       "      <td>9/27/2017</td>\n",
       "      <td>Prev ideas for paying 10B dev cost incl Kicks...</td>\n",
       "      <td>-0.133333</td>\n",
       "      <td>340</td>\n",
       "      <td>0.0147059</td>\n",
       "    </tr>\n",
       "  </tbody>\n",
       "</table>\n",
       "</div>"
      ],
      "text/plain": [
       "   Unnamed: 0       Date                                             Tweets  \\\n",
       "0           0  9/29/2017  MeltingIce Assuming max acceleration of 2 to 3...   \n",
       "1           1  9/28/2017   kevinroose Just another day in the office Fas...   \n",
       "2           2  9/27/2017   Prev ideas for paying 10B dev cost incl Kicks...   \n",
       "\n",
       "   polarity  Prices percent change  \n",
       "0  0.156151     341     -0.0058651  \n",
       "1  0.500000     339     0.00294985  \n",
       "2 -0.133333     340      0.0147059  "
      ]
     },
     "execution_count": 36,
     "metadata": {},
     "output_type": "execute_result"
    }
   ],
   "source": [
    "ccdata.head(3)"
   ]
  },
  {
   "cell_type": "code",
   "execution_count": 56,
   "metadata": {},
   "outputs": [],
   "source": [
    "\"\"\"Parttion the data in train and test\n",
    "Train the model with past four years data \n",
    "and predict the price change for next years\"\"\"\n",
    "\n",
    "test1 = ccdata.iloc[0:199]\n",
    "train1 = ccdata.iloc[200:549]\n",
    "\n",
    "train = train1.to_numpy()\n",
    "test = test1.to_numpy()\n",
    "\n",
    "X_train= np.array([x[-3] for x in train])\n",
    "y_train = np.array([x[-1] for x in train])\n",
    "\n",
    "X_test= np.array([x[-3] for x in test])\n",
    "y_test = np.array([x[-1] for x in test])\n",
    "#y= np.array(ccdata['Prices'].values).astype(float)\n",
    "#(X_train,X_test,y_train,y_test) = train_test_split(X, y, test_size=0.2, random_state=0)"
   ]
  },
  {
   "cell_type": "code",
   "execution_count": null,
   "metadata": {},
   "outputs": [],
   "source": []
  },
  {
   "cell_type": "code",
   "execution_count": null,
   "metadata": {},
   "outputs": [],
   "source": []
  },
  {
   "cell_type": "code",
   "execution_count": 57,
   "metadata": {},
   "outputs": [
    {
     "name": "stderr",
     "output_type": "stream",
     "text": [
      "C:\\Users\\Kamakshi\\Anaconda3\\lib\\site-packages\\sklearn\\ensemble\\forest.py:245: FutureWarning: The default value of n_estimators will change from 10 in version 0.20 to 100 in 0.22.\n",
      "  \"10 in version 0.20 to 100 in 0.22.\", FutureWarning)\n"
     ]
    },
    {
     "data": {
      "text/plain": [
       "0.48458566067964337"
      ]
     },
     "execution_count": 57,
     "metadata": {},
     "output_type": "execute_result"
    }
   ],
   "source": [
    "\"\"\"1 Random Forest Learner\"\"\"\n",
    "\n",
    "rf = RandomForestRegressor()\n",
    "\n",
    "rf.fit(X_train.reshape(-1,1), y_train)\n",
    "prediction, bias, contributions = ti.predict(rf, X_test.reshape(-1,1))\n",
    "rf.predict(X_test.reshape(-1,1))\n",
    "rf.score(X_train.reshape(-1,1),y_train)"
   ]
  },
  {
   "cell_type": "code",
   "execution_count": null,
   "metadata": {},
   "outputs": [],
   "source": [
    "\"\"\"2 Another Learner\"\"\""
   ]
  },
  {
   "cell_type": "code",
   "execution_count": 58,
   "metadata": {},
   "outputs": [
    {
     "data": {
      "image/png": "[encoded data removed]",
      "text/plain": [
       "<Figure size 432x288 with 1 Axes>"
      ]
     },
     "metadata": {
      "needs_background": "light"
     },
     "output_type": "display_data"
    }
   ],
   "source": [
    "date_test = np.array([x[1] for x in test])\n",
    "plt.plot(date_test,y_test, label=\"actual\")\n",
    "plt.plot(date_test,prediction, label=\"Predicted\")\n",
    "plt.xlabel('Date') \n",
    "plt.ylabel('Price change')\n",
    "plt.title('My Experiment')\n",
    "plt.legend()\n",
    "plt.show()"
   ]
  },
  {
   "cell_type": "code",
   "execution_count": null,
   "metadata": {},
   "outputs": [],
   "source": []
  },
  {
   "cell_type": "code",
   "execution_count": null,
   "metadata": {},
   "outputs": [],
   "source": [
    "\n"
   ]
  },
  {
   "cell_type": "code",
   "execution_count": null,
   "metadata": {},
   "outputs": [],
   "source": []
  },
  {
   "cell_type": "code",
   "execution_count": null,
   "metadata": {},
   "outputs": [],
   "source": []
  },
  {
   "cell_type": "code",
   "execution_count": null,
   "metadata": {},
   "outputs": [],
   "source": []
  },
  {
   "cell_type": "code",
   "execution_count": null,
   "metadata": {},
   "outputs": [],
   "source": []
  },
  {
   "cell_type": "code",
   "execution_count": null,
   "metadata": {},
   "outputs": [],
   "source": []
  },
  {
   "cell_type": "code",
   "execution_count": null,
   "metadata": {},
   "outputs": [],
   "source": []
  },
  {
   "cell_type": "code",
   "execution_count": null,
   "metadata": {},
   "outputs": [],
   "source": []
  },
  {
   "cell_type": "code",
   "execution_count": null,
   "metadata": {},
   "outputs": [],
   "source": []
  },
  {
   "cell_type": "code",
   "execution_count": null,
   "metadata": {},
   "outputs": [],
   "source": []
  },
  {
   "cell_type": "code",
   "execution_count": null,
   "metadata": {},
   "outputs": [],
   "source": []
  },
  {
   "cell_type": "code",
   "execution_count": null,
   "metadata": {},
   "outputs": [],
   "source": []
  },
  {
   "cell_type": "code",
   "execution_count": null,
   "metadata": {},
   "outputs": [],
   "source": []
  },
  {
   "cell_type": "code",
   "execution_count": null,
   "metadata": {},
   "outputs": [],
   "source": []
  },
  {
   "cell_type": "code",
   "execution_count": null,
   "metadata": {},
   "outputs": [],
   "source": []
  },
  {
   "cell_type": "code",
   "execution_count": null,
   "metadata": {},
   "outputs": [],
   "source": []
  },
  {
   "cell_type": "code",
   "execution_count": null,
   "metadata": {},
   "outputs": [],
   "source": []
  },
  {
   "cell_type": "code",
   "execution_count": null,
   "metadata": {},
   "outputs": [],
   "source": []
  },
  {
   "cell_type": "code",
   "execution_count": null,
   "metadata": {},
   "outputs": [],
   "source": []
  },
  {
   "cell_type": "code",
   "execution_count": null,
   "metadata": {},
   "outputs": [],
   "source": []
  },
  {
   "cell_type": "code",
   "execution_count": null,
   "metadata": {},
   "outputs": [],
   "source": []
  }
 ],
 "metadata": {
  "kernelspec": {
   "display_name": "Python 3",
   "language": "python",
   "name": "python3"
  },
  "language_info": {
   "codemirror_mode": {
    "name": "ipython",
    "version": 3
   },
   "file_extension": ".py",
   "mimetype": "text/x-python",
   "name": "python",
   "nbconvert_exporter": "python",
   "pygments_lexer": "ipython3",
   "version": "3.7.3"
  }
 },
 "nbformat": 4,
 "nbformat_minor": 2
}
