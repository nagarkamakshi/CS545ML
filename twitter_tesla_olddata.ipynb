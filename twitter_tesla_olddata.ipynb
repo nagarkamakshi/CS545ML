{
 "cells": [
  {
   "cell_type": "code",
   "execution_count": 100,
   "metadata": {},
   "outputs": [],
   "source": [
    "import pandas as pd\n",
    "import numpy as np\n",
    "import re\n",
    "import tweepy\n",
    "import datetime\n",
    "from pandas_datareader import data as web\n",
    "from textblob import TextBlob\n",
    "from sklearn.svm import SVR\n",
    "from treeinterpreter import treeinterpreter as ti\n",
    "from sklearn.ensemble import RandomForestRegressor\n",
    "import matplotlib.pyplot as plt\n",
    "from sklearn.model_selection import train_test_split"
   ]
  },
  {
   "cell_type": "code",
   "execution_count": 3,
   "metadata": {},
   "outputs": [
    {
     "name": "stdout",
     "output_type": "stream",
     "text": [
      "Created CSV\n"
     ]
    }
   ],
   "source": [
    "consumer_key = \"W8olFrRLK7Lt7BUh6YAbdSG4h\"\n",
    "consumer_secret = \"izRdiwC73rntSdMdAQm2gL8zFNAHVLa99A8dI99w0Lz16jvNrx\"\n",
    "\n",
    "access_token = \"620364433-Kj5up6bB6KLfl5wfmxxcAnWthse5o38P2MKABM00\"\n",
    "access_token_secret = \"Faxxv0hb54KF7MmakQ8WZmvaCC5YIprcWhiOuEyQY2iLt\"\n",
    "\n",
    "auth = tweepy.OAuthHandler(consumer_key, consumer_secret)\n",
    "auth.set_access_token(access_token, access_token_secret)\n",
    "api = tweepy.API(auth,wait_on_rate_limit=True)\n",
    "\n",
    "fetch_tweets=tweepy.Cursor(api.search, q=\"#TSLA\",count=100, lang =\"en\",since=\"2019-9-25\", tweet_mode=\"extended\").items()\n",
    "data=pd.DataFrame(data=[[tweet_info.created_at.date(),tweet_info.full_text]for tweet_info in fetch_tweets],columns=['Date','Tweets'])\n",
    "\n",
    "data.to_csv(\"TeslaTweets.csv\")\n",
    "cdata=pd.DataFrame(columns=['Date','Tweets'])\n",
    "print(\"Created CSV\")"
   ]
  },
  {
   "cell_type": "code",
   "execution_count": 159,
   "metadata": {},
   "outputs": [],
   "source": [
    "data = pd.read_csv('tweets_data_old_elonmusk.csv')"
   ]
  },
  {
   "cell_type": "code",
   "execution_count": 160,
   "metadata": {},
   "outputs": [
    {
     "name": "stdout",
     "output_type": "stream",
     "text": [
      "3218\n"
     ]
    }
   ],
   "source": [
    "cdata=pd.DataFrame(columns=['Date','Tweets'])\n",
    "print(len(data))"
   ]
  },
  {
   "cell_type": "code",
   "execution_count": 267,
   "metadata": {},
   "outputs": [],
   "source": [
    "index=0\n",
    "for index,row in data.iterrows():\n",
    "    stre=row[\"Tweets\"]\n",
    "    my_new_string = re.sub('[^ a-zA-Z0-9]', '', stre)\n",
    "    cdata.sort_index()\n",
    "    cdata.at[index,'Date'] =row[\"Date\"]\n",
    "    cdata.at[index,'Tweets']= my_new_string\n",
    "    #index=index+1\n",
    "ccdata=pd.DataFrame(columns=['Date','Tweets'])"
   ]
  },
  {
   "cell_type": "code",
   "execution_count": 264,
   "metadata": {},
   "outputs": [],
   "source": [
    "indx=0\n",
    "get_tweet=\"\"\n",
    "for i in range(0,len(cdata)-1):\n",
    "    get_date=cdata.Date.iloc[i]\n",
    "    next_date=cdata.Date.iloc[i+1]\n",
    "    if(str(get_date)==str(next_date)):\n",
    "        get_tweet=get_tweet+cdata.Tweets.iloc[i]+\" \"\n",
    "    if(str(get_date)!=str(next_date)):\n",
    "        ccdata.at[indx,'Date']=get_date\n",
    "        ccdata.at[indx,'Tweets']=get_tweet\n",
    "        indx+=1\n",
    "        get_tweet=\" \"\n",
    "     \n"
   ]
  },
  {
   "cell_type": "code",
   "execution_count": 181,
   "metadata": {},
   "outputs": [
    {
     "name": "stdout",
     "output_type": "stream",
     "text": [
      "549\n"
     ]
    }
   ],
   "source": [
    "ccdata = pd.read_csv('Tesla_tweets_old.csv')\n",
    "\n",
    "print(len(ccdata))"
   ]
  },
  {
   "cell_type": "code",
   "execution_count": 182,
   "metadata": {},
   "outputs": [
    {
     "name": "stdout",
     "output_type": "stream",
     "text": [
      "% of positive tweets=  87.97814207650273\n",
      "% of negative tweets=  12.021857923497267\n"
     ]
    },
    {
     "data": {
      "text/plain": [
       "[]"
      ]
     },
     "execution_count": 182,
     "metadata": {},
     "output_type": "execute_result"
    },
    {
     "data": {
      "image/png": "[encoded data removed]",
      "text/plain": [
       "<Figure size 432x288 with 1 Axes>"
      ]
     },
     "metadata": {},
     "output_type": "display_data"
    }
   ],
   "source": [
    "ccdata['polarity'] = 0.0000\n",
    "for index,row in ccdata.iterrows():\n",
    "    analysis = TextBlob(ccdata['Tweets'][index])\n",
    "    sentiment, confidence  = analysis.sentiment\n",
    "    ccdata.at[index,'polarity'] = sentiment\n",
    "    \n",
    "posi=0\n",
    "nega=0\n",
    "for i in range (0,len(ccdata)):\n",
    "    get_val=ccdata['polarity'][i]\n",
    "    if(float(get_val)<(0)):\n",
    "        nega=nega+1\n",
    "    else:\n",
    "        posi=posi+1\n",
    "        \n",
    "posper=(posi/(len(ccdata)))*100\n",
    "negper=(nega/(len(ccdata)))*100\n",
    "print(\"% of positive tweets= \",posper)\n",
    "print(\"% of negative tweets= \",negper)\n",
    "arr=np.asarray([posper,negper], dtype=int)\n",
    "mlpt.pie(arr,labels=['positive','negative'])\n",
    "mlpt.plot()"
   ]
  },
  {
   "cell_type": "code",
   "execution_count": 212,
   "metadata": {},
   "outputs": [],
   "source": [
    "start = datetime.datetime(2012,10,26)\n",
    "## Let's get Apple stock data; Apple's ticker symbol is AAPL\n",
    "## First argument is the series we want, second is the source (\"yahoo\" for Yahoo! Finance), third is the start date, fourth is the end date\n",
    "tesla = web.DataReader('TSLA', 'yahoo', start)\n",
    "tesla.to_csv('TESLA_stock_price.csv')"
   ]
  },
  {
   "cell_type": "code",
   "execution_count": 233,
   "metadata": {},
   "outputs": [
    {
     "data": {
      "text/html": [
       "<div>\n",
       "<style scoped>\n",
       "    .dataframe tbody tr th:only-of-type {\n",
       "        vertical-align: middle;\n",
       "    }\n",
       "\n",
       "    .dataframe tbody tr th {\n",
       "        vertical-align: top;\n",
       "    }\n",
       "\n",
       "    .dataframe thead th {\n",
       "        text-align: right;\n",
       "    }\n",
       "</style>\n",
       "<table border=\"1\" class=\"dataframe\">\n",
       "  <thead>\n",
       "    <tr style=\"text-align: right;\">\n",
       "      <th></th>\n",
       "      <th>Date</th>\n",
       "      <th>High</th>\n",
       "      <th>Low</th>\n",
       "      <th>Open</th>\n",
       "      <th>Close</th>\n",
       "      <th>Volume</th>\n",
       "      <th>Adj Close</th>\n",
       "    </tr>\n",
       "  </thead>\n",
       "  <tbody>\n",
       "    <tr>\n",
       "      <th>1783</th>\n",
       "      <td>11/29/2019</td>\n",
       "      <td>331.260010</td>\n",
       "      <td>327.500000</td>\n",
       "      <td>331.109985</td>\n",
       "      <td>329.940002</td>\n",
       "      <td>2465600</td>\n",
       "      <td>329.940002</td>\n",
       "    </tr>\n",
       "    <tr>\n",
       "      <th>1784</th>\n",
       "      <td>12/2/2019</td>\n",
       "      <td>336.380005</td>\n",
       "      <td>328.690002</td>\n",
       "      <td>329.399994</td>\n",
       "      <td>334.869995</td>\n",
       "      <td>6074500</td>\n",
       "      <td>334.869995</td>\n",
       "    </tr>\n",
       "    <tr>\n",
       "      <th>1785</th>\n",
       "      <td>12/3/2019</td>\n",
       "      <td>337.910004</td>\n",
       "      <td>332.190002</td>\n",
       "      <td>332.619995</td>\n",
       "      <td>336.200012</td>\n",
       "      <td>6573700</td>\n",
       "      <td>336.200012</td>\n",
       "    </tr>\n",
       "    <tr>\n",
       "      <th>1786</th>\n",
       "      <td>12/4/2019</td>\n",
       "      <td>337.859985</td>\n",
       "      <td>332.850006</td>\n",
       "      <td>337.750000</td>\n",
       "      <td>333.029999</td>\n",
       "      <td>5533000</td>\n",
       "      <td>333.029999</td>\n",
       "    </tr>\n",
       "    <tr>\n",
       "      <th>1787</th>\n",
       "      <td>12/5/2019</td>\n",
       "      <td>334.364014</td>\n",
       "      <td>327.250000</td>\n",
       "      <td>332.829987</td>\n",
       "      <td>330.369995</td>\n",
       "      <td>3736976</td>\n",
       "      <td>330.369995</td>\n",
       "    </tr>\n",
       "  </tbody>\n",
       "</table>\n",
       "</div>"
      ],
      "text/plain": [
       "            Date        High         Low        Open       Close   Volume  \\\n",
       "1783  11/29/2019  331.260010  327.500000  331.109985  329.940002  2465600   \n",
       "1784   12/2/2019  336.380005  328.690002  329.399994  334.869995  6074500   \n",
       "1785   12/3/2019  337.910004  332.190002  332.619995  336.200012  6573700   \n",
       "1786   12/4/2019  337.859985  332.850006  337.750000  333.029999  5533000   \n",
       "1787   12/5/2019  334.364014  327.250000  332.829987  330.369995  3736976   \n",
       "\n",
       "       Adj Close  \n",
       "1783  329.940002  \n",
       "1784  334.869995  \n",
       "1785  336.200012  \n",
       "1786  333.029999  \n",
       "1787  330.369995  "
      ]
     },
     "execution_count": 233,
     "metadata": {},
     "output_type": "execute_result"
    }
   ],
   "source": [
    "read_stock_p=pd.read_csv('TESLA_stock_price.csv')\n",
    "read_stock_p.tail()"
   ]
  },
  {
   "cell_type": "code",
   "execution_count": 262,
   "metadata": {},
   "outputs": [],
   "source": [
    "ccdata['Prices']=\"\"\n",
    "\n",
    "indx=0\n",
    "for i in range (0,len(ccdata)):\n",
    "    for j in range (0,len(read_stock_p)):\n",
    "        get_tweet_date=ccdata.Date.iloc[i]\n",
    "        get_stock_date=read_stock_p.Date.iloc[j]             \n",
    "        if(str(get_stock_date)==str(get_tweet_date)):\n",
    "            #print(get_stock_date,\" \",get_tweet_date)\n",
    "            ccdata.at[i,'Prices']=int(read_stock_p.Close[j])\n",
    "            break"
   ]
  },
  {
   "cell_type": "code",
   "execution_count": 263,
   "metadata": {},
   "outputs": [
    {
     "data": {
      "text/html": [
       "<div>\n",
       "<style scoped>\n",
       "    .dataframe tbody tr th:only-of-type {\n",
       "        vertical-align: middle;\n",
       "    }\n",
       "\n",
       "    .dataframe tbody tr th {\n",
       "        vertical-align: top;\n",
       "    }\n",
       "\n",
       "    .dataframe thead th {\n",
       "        text-align: right;\n",
       "    }\n",
       "</style>\n",
       "<table border=\"1\" class=\"dataframe\">\n",
       "  <thead>\n",
       "    <tr style=\"text-align: right;\">\n",
       "      <th></th>\n",
       "      <th>Date</th>\n",
       "      <th>Tweets</th>\n",
       "      <th>polarity</th>\n",
       "      <th>Prices</th>\n",
       "    </tr>\n",
       "  </thead>\n",
       "  <tbody>\n",
       "    <tr>\n",
       "      <th>0</th>\n",
       "      <td>9/29/2017</td>\n",
       "      <td>MeltingIce Assuming max acceleration of 2 to 3...</td>\n",
       "      <td>0.156151</td>\n",
       "      <td>341</td>\n",
       "    </tr>\n",
       "    <tr>\n",
       "      <th>1</th>\n",
       "      <td>9/28/2017</td>\n",
       "      <td>kevinroose Just another day in the office Fas...</td>\n",
       "      <td>0.500000</td>\n",
       "      <td>339</td>\n",
       "    </tr>\n",
       "    <tr>\n",
       "      <th>2</th>\n",
       "      <td>9/27/2017</td>\n",
       "      <td>Prev ideas for paying 10B dev cost incl Kicks...</td>\n",
       "      <td>-0.133333</td>\n",
       "      <td>340</td>\n",
       "    </tr>\n",
       "    <tr>\n",
       "      <th>3</th>\n",
       "      <td>9/26/2017</td>\n",
       "      <td>ElDeano Daimler Jalopnik Yes I did  Good NYT ...</td>\n",
       "      <td>0.350000</td>\n",
       "      <td>345</td>\n",
       "    </tr>\n",
       "    <tr>\n",
       "      <th>4</th>\n",
       "      <td>9/25/2017</td>\n",
       "      <td>Daimler Good Major improvements  some unexpec...</td>\n",
       "      <td>0.287500</td>\n",
       "      <td>344</td>\n",
       "    </tr>\n",
       "  </tbody>\n",
       "</table>\n",
       "</div>"
      ],
      "text/plain": [
       "        Date                                             Tweets  polarity  \\\n",
       "0  9/29/2017  MeltingIce Assuming max acceleration of 2 to 3...  0.156151   \n",
       "1  9/28/2017   kevinroose Just another day in the office Fas...  0.500000   \n",
       "2  9/27/2017   Prev ideas for paying 10B dev cost incl Kicks... -0.133333   \n",
       "3  9/26/2017   ElDeano Daimler Jalopnik Yes I did  Good NYT ...  0.350000   \n",
       "4  9/25/2017   Daimler Good Major improvements  some unexpec...  0.287500   \n",
       "\n",
       "  Prices  \n",
       "0    341  \n",
       "1    339  \n",
       "2    340  \n",
       "3    345  \n",
       "4    344  "
      ]
     },
     "execution_count": 263,
     "metadata": {},
     "output_type": "execute_result"
    }
   ],
   "source": [
    "ccdata.head()"
   ]
  },
  {
   "cell_type": "code",
   "execution_count": 237,
   "metadata": {},
   "outputs": [],
   "source": [
    "for i in range(1,len(ccdata)):\n",
    "    if(ccdata.Prices.iloc[i]==\"\"):\n",
    "            ccdata.Prices.iloc[i]=int(ccdata.Prices.iloc[i-1])\n",
    "\n",
    "#ccdata['Prices'] = ccdata['Prices'].apply(np.int64)\n"
   ]
  },
  {
   "cell_type": "code",
   "execution_count": 241,
   "metadata": {},
   "outputs": [
    {
     "data": {
      "text/html": [
       "<div>\n",
       "<style scoped>\n",
       "    .dataframe tbody tr th:only-of-type {\n",
       "        vertical-align: middle;\n",
       "    }\n",
       "\n",
       "    .dataframe tbody tr th {\n",
       "        vertical-align: top;\n",
       "    }\n",
       "\n",
       "    .dataframe thead th {\n",
       "        text-align: right;\n",
       "    }\n",
       "</style>\n",
       "<table border=\"1\" class=\"dataframe\">\n",
       "  <thead>\n",
       "    <tr style=\"text-align: right;\">\n",
       "      <th></th>\n",
       "      <th>Date</th>\n",
       "      <th>Tweets</th>\n",
       "      <th>polarity</th>\n",
       "      <th>Prices</th>\n",
       "    </tr>\n",
       "  </thead>\n",
       "  <tbody>\n",
       "    <tr>\n",
       "      <th>0</th>\n",
       "      <td>9/29/2017</td>\n",
       "      <td>MeltingIce Assuming max acceleration of 2 to 3...</td>\n",
       "      <td>0.156151</td>\n",
       "      <td>341</td>\n",
       "    </tr>\n",
       "    <tr>\n",
       "      <th>1</th>\n",
       "      <td>9/28/2017</td>\n",
       "      <td>kevinroose Just another day in the office Fas...</td>\n",
       "      <td>0.500000</td>\n",
       "      <td>339</td>\n",
       "    </tr>\n",
       "    <tr>\n",
       "      <th>2</th>\n",
       "      <td>9/27/2017</td>\n",
       "      <td>Prev ideas for paying 10B dev cost incl Kicks...</td>\n",
       "      <td>-0.133333</td>\n",
       "      <td>340</td>\n",
       "    </tr>\n",
       "    <tr>\n",
       "      <th>3</th>\n",
       "      <td>9/26/2017</td>\n",
       "      <td>ElDeano Daimler Jalopnik Yes I did  Good NYT ...</td>\n",
       "      <td>0.350000</td>\n",
       "      <td>345</td>\n",
       "    </tr>\n",
       "    <tr>\n",
       "      <th>4</th>\n",
       "      <td>9/25/2017</td>\n",
       "      <td>Daimler Good Major improvements  some unexpec...</td>\n",
       "      <td>0.287500</td>\n",
       "      <td>344</td>\n",
       "    </tr>\n",
       "    <tr>\n",
       "      <th>5</th>\n",
       "      <td>9/16/2017</td>\n",
       "      <td>Richwsadler Does my hivemind count as me Bobb...</td>\n",
       "      <td>-0.125000</td>\n",
       "      <td>344</td>\n",
       "    </tr>\n",
       "  </tbody>\n",
       "</table>\n",
       "</div>"
      ],
      "text/plain": [
       "        Date                                             Tweets  polarity  \\\n",
       "0  9/29/2017  MeltingIce Assuming max acceleration of 2 to 3...  0.156151   \n",
       "1  9/28/2017   kevinroose Just another day in the office Fas...  0.500000   \n",
       "2  9/27/2017   Prev ideas for paying 10B dev cost incl Kicks... -0.133333   \n",
       "3  9/26/2017   ElDeano Daimler Jalopnik Yes I did  Good NYT ...  0.350000   \n",
       "4  9/25/2017   Daimler Good Major improvements  some unexpec...  0.287500   \n",
       "5  9/16/2017   Richwsadler Does my hivemind count as me Bobb... -0.125000   \n",
       "\n",
       "   Prices  \n",
       "0     341  \n",
       "1     339  \n",
       "2     340  \n",
       "3     345  \n",
       "4     344  \n",
       "5     344  "
      ]
     },
     "execution_count": 241,
     "metadata": {},
     "output_type": "execute_result"
    }
   ],
   "source": [
    "ccdata.head(6)"
   ]
  },
  {
   "cell_type": "code",
   "execution_count": 242,
   "metadata": {},
   "outputs": [
    {
     "data": {
      "text/plain": [
       "Date         object\n",
       "Tweets       object\n",
       "polarity    float64\n",
       "Prices        int64\n",
       "dtype: object"
      ]
     },
     "execution_count": 242,
     "metadata": {},
     "output_type": "execute_result"
    }
   ],
   "source": [
    "ccdata.dtypes"
   ]
  },
  {
   "cell_type": "code",
   "execution_count": 244,
   "metadata": {},
   "outputs": [
    {
     "data": {
      "text/plain": [
       "(549, 4)"
      ]
     },
     "execution_count": 244,
     "metadata": {},
     "output_type": "execute_result"
    }
   ],
   "source": [
    "ccdata.shape"
   ]
  },
  {
   "cell_type": "code",
   "execution_count": 197,
   "metadata": {},
   "outputs": [],
   "source": []
  },
  {
   "cell_type": "code",
   "execution_count": 243,
   "metadata": {},
   "outputs": [],
   "source": [
    "ccdata.to_csv(\"Tesla_tweets_with_stocks_old.csv\")"
   ]
  },
  {
   "cell_type": "code",
   "execution_count": 254,
   "metadata": {},
   "outputs": [],
   "source": [
    "test1 = ccdata.iloc[0:100]\n",
    "train1 = ccdata.iloc[100:549]\n",
    "\n",
    "train = train1.to_numpy()\n",
    "test = test1.to_numpy()\n",
    "\n",
    "X_train= np.asarray([x[-2] for x in train])\n",
    "y_train = np.array([x[-1] for x in train])\n",
    "\n",
    "X_test= np.array([x[-2] for x in test])\n",
    "y_test = np.array([x[-1] for x in test])\n",
    "#y= np.array(ccdata['Prices'].values).astype(float)\n",
    "#(X_train,X_test,y_train,y_test) = train_test_split(X, y, test_size=0.2, random_state=0)"
   ]
  },
  {
   "cell_type": "code",
   "execution_count": null,
   "metadata": {},
   "outputs": [],
   "source": [
    "rf = RandomForestRegressor()\n",
    "\n",
    "rf.fit(X_train.reshape(-1,1), y_train)\n",
    "prediction, bias, contributions = ti.predict(rf, X_test.reshape(-1,1))\n",
    "rf.predict(X_test.reshape(-1,1))\n",
    "rf.score(X_train.reshape(-1,1),y_train)"
   ]
  },
  {
   "cell_type": "code",
   "execution_count": null,
   "metadata": {},
   "outputs": [],
   "source": [
    "date_test = np.array([x[0] for x in test])\n",
    "plt.plot(date_test,y_test, label=\"actual Prices\")\n",
    "plt.plot(date_test,prediction, label=\"Predicted Prices\")\n",
    "plt.xlabel('Date') \n",
    "plt.ylabel('Price')\n",
    "plt.title('My Experiment')\n",
    "plt.legend()\n",
    "plt.show()"
   ]
  },
  {
   "cell_type": "code",
   "execution_count": null,
   "metadata": {},
   "outputs": [],
   "source": []
  },
  {
   "cell_type": "code",
   "execution_count": null,
   "metadata": {},
   "outputs": [],
   "source": [
    "\n"
   ]
  },
  {
   "cell_type": "code",
   "execution_count": null,
   "metadata": {},
   "outputs": [],
   "source": []
  },
  {
   "cell_type": "code",
   "execution_count": null,
   "metadata": {},
   "outputs": [],
   "source": []
  },
  {
   "cell_type": "code",
   "execution_count": null,
   "metadata": {},
   "outputs": [],
   "source": []
  },
  {
   "cell_type": "code",
   "execution_count": 259,
   "metadata": {},
   "outputs": [],
   "source": []
  },
  {
   "cell_type": "code",
   "execution_count": null,
   "metadata": {},
   "outputs": [],
   "source": []
  },
  {
   "cell_type": "code",
   "execution_count": null,
   "metadata": {},
   "outputs": [],
   "source": []
  },
  {
   "cell_type": "code",
   "execution_count": 116,
   "metadata": {},
   "outputs": [
    {
     "name": "stderr",
     "output_type": "stream",
     "text": [
      "C:\\Users\\Kamakshi\\Anaconda3\\lib\\site-packages\\ipykernel_launcher.py:5: DeprecationWarning: \n",
      ".ix is deprecated. Please use\n",
      ".loc for label based indexing or\n",
      ".iloc for positional indexing\n",
      "\n",
      "See the documentation here:\n",
      "http://pandas.pydata.org/pandas-docs/stable/indexing.html#ix-indexer-is-deprecated\n",
      "  \"\"\"\n",
      "C:\\Users\\Kamakshi\\Anaconda3\\lib\\site-packages\\ipykernel_launcher.py:6: DeprecationWarning: \n",
      ".ix is deprecated. Please use\n",
      ".loc for label based indexing or\n",
      ".iloc for positional indexing\n",
      "\n",
      "See the documentation here:\n",
      "http://pandas.pydata.org/pandas-docs/stable/indexing.html#ix-indexer-is-deprecated\n",
      "  \n"
     ]
    }
   ],
   "source": [
    "train_data_start = '01/01/2012'\n",
    "train_data_end = '12/31/2016'\n",
    "test_data_start = '01/01/2017'\n",
    "test_data_end = '12/31/2017'\n",
    "train = ccdata.ix[train_data_start : train_data_end]\n",
    "test = ccdata.ix[test_data_start:test_data_end]"
   ]
  },
  {
   "cell_type": "code",
   "execution_count": 117,
   "metadata": {},
   "outputs": [],
   "source": [
    "list_of_sentiments_score = []\n",
    "for date, row in train.T.iteritems():\n",
    "    sentiment_score = np.asarray([ccdata.loc[date, 'polarity']])\n",
    "    list_of_sentiments_score.append(sentiment_score)\n",
    "numpy_dataframe_train = np.asarray(list_of_sentiments_score)"
   ]
  },
  {
   "cell_type": "code",
   "execution_count": 122,
   "metadata": {},
   "outputs": [],
   "source": [
    "list_of_sentiments_score = []\n",
    "for date, row in test.T.iteritems():\n",
    "    sentiment_score = np.asarray([ccdata.loc[date, 'polarity']])\n",
    "    list_of_sentiments_score.append(sentiment_score)\n",
    "numpy_dataframe_test = np.asarray(list_of_sentiments_score)"
   ]
  },
  {
   "cell_type": "code",
   "execution_count": 120,
   "metadata": {},
   "outputs": [],
   "source": [
    "y_train = pd.DataFrame(train['Prices'])\n",
    "y_test = pd.DataFrame(test['Prices'])"
   ]
  },
  {
   "cell_type": "code",
   "execution_count": 130,
   "metadata": {},
   "outputs": [
    {
     "name": "stdout",
     "output_type": "stream",
     "text": [
      "1.0\n"
     ]
    },
    {
     "name": "stderr",
     "output_type": "stream",
     "text": [
      "C:\\Users\\Kamakshi\\Anaconda3\\lib\\site-packages\\sklearn\\ensemble\\forest.py:245: FutureWarning: The default value of n_estimators will change from 10 in version 0.20 to 100 in 0.22.\n",
      "  \"10 in version 0.20 to 100 in 0.22.\", FutureWarning)\n"
     ]
    }
   ],
   "source": [
    "rf = RandomForestRegressor()\n",
    "rf.fit(numpy_dataframe_train, train['Prices'])\n",
    "prediction=rf.predict(numpy_dataframe_test)\n",
    "%matplotlib inline\n",
    "print(rf.score(numpy_dataframe_test, test['Prices']))\n",
    "idx = pd.date_range(test_data_start, test_data_end)\n"
   ]
  },
  {
   "cell_type": "code",
   "execution_count": 131,
   "metadata": {},
   "outputs": [
    {
     "data": {
      "text/plain": [
       "DatetimeIndex(['2017-01-01', '2017-01-02', '2017-01-03', '2017-01-04',\n",
       "               '2017-01-05', '2017-01-06', '2017-01-07', '2017-01-08',\n",
       "               '2017-01-09', '2017-01-10',\n",
       "               ...\n",
       "               '2017-12-22', '2017-12-23', '2017-12-24', '2017-12-25',\n",
       "               '2017-12-26', '2017-12-27', '2017-12-28', '2017-12-29',\n",
       "               '2017-12-30', '2017-12-31'],\n",
       "              dtype='datetime64[ns]', length=365, freq='D')"
      ]
     },
     "execution_count": 131,
     "metadata": {},
     "output_type": "execute_result"
    }
   ],
   "source": [
    "idx\n",
    "predictions_df = pd.DataFrame(data=prediction[0:], index = idx, columns=['Prices'])\n",
    "predictions_df.columns = ['predicted_price', 'actual_price']\n",
    "predictions_df.plot()\n",
    "\n",
    "\n",
    "print(rf.score(numpy_dataframe_train, train['Prices']))"
   ]
  },
  {
   "cell_type": "code",
   "execution_count": null,
   "metadata": {},
   "outputs": [],
   "source": []
  },
  {
   "cell_type": "code",
   "execution_count": null,
   "metadata": {},
   "outputs": [],
   "source": []
  },
  {
   "cell_type": "code",
   "execution_count": null,
   "metadata": {},
   "outputs": [],
   "source": []
  },
  {
   "cell_type": "code",
   "execution_count": null,
   "metadata": {},
   "outputs": [],
   "source": []
  },
  {
   "cell_type": "code",
   "execution_count": null,
   "metadata": {},
   "outputs": [],
   "source": []
  }
 ],
 "metadata": {
  "kernelspec": {
   "display_name": "Python 3",
   "language": "python",
   "name": "python3"
  },
  "language_info": {
   "codemirror_mode": {
    "name": "ipython",
    "version": 3
   },
   "file_extension": ".py",
   "mimetype": "text/x-python",
   "name": "python",
   "nbconvert_exporter": "python",
   "pygments_lexer": "ipython3",
   "version": "3.7.3"
  }
 },
 "nbformat": 4,
 "nbformat_minor": 2
}
